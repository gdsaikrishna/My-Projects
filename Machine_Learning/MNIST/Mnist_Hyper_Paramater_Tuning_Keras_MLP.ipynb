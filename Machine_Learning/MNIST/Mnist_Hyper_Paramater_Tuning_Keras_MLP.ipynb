{
  "nbformat": 4,
  "nbformat_minor": 0,
  "metadata": {
    "colab": {
      "name": "Hyper-Paramater_Tuning_Keras.ipynb",
      "provenance": [],
      "collapsed_sections": []
    },
    "kernelspec": {
      "name": "python3",
      "display_name": "Python 3"
    }
  },
  "cells": [
    {
      "cell_type": "code",
      "metadata": {
        "id": "v8idpjzeVKHF"
      },
      "source": [
        "import numpy as np\r\n",
        "import tensorflow as tf\r\n",
        "from tensorflow.keras import utils\r\n",
        "from tensorflow.keras.datasets import mnist\r\n",
        "import seaborn as sns\r\n",
        "from tensorflow.keras.initializers import RandomNormal\r\n",
        "import time\r\n",
        "import matplotlib.pyplot as plt "
      ],
      "execution_count": 1,
      "outputs": []
    },
    {
      "cell_type": "code",
      "metadata": {
        "id": "nOKHaWfkW4T_"
      },
      "source": [
        "#Function for plots for each epoch and error\r\n",
        "def plt_dynamic(x, vy, ty, ax, colors= ['b'] ):\r\n",
        "    ax.plot(x, vy, 'b', label = \"Validation Loss\")\r\n",
        "    ax.plot(x, ty, 'r', label = \"Train Loss\")\r\n",
        "    plt.legend()\r\n",
        "    plt.grid()\r\n",
        "    fig.canvas.draw() "
      ],
      "execution_count": 2,
      "outputs": []
    },
    {
      "cell_type": "code",
      "metadata": {
        "colab": {
          "base_uri": "https://localhost:8080/"
        },
        "id": "uE5sTJPAW61r",
        "outputId": "211f1ba2-dc37-4470-fe6b-d86b694e69bd"
      },
      "source": [
        "(X_train, y_train),(X_test , y_test) = mnist.load_data()"
      ],
      "execution_count": 3,
      "outputs": [
        {
          "output_type": "stream",
          "text": [
            "Downloading data from https://storage.googleapis.com/tensorflow/tf-keras-datasets/mnist.npz\n",
            "11493376/11490434 [==============================] - 0s 0us/step\n"
          ],
          "name": "stdout"
        }
      ]
    },
    {
      "cell_type": "code",
      "metadata": {
        "id": "LO0EiiNuW9Vl"
      },
      "source": [
        "\r\n",
        "X_train = X_train.reshape(X_train.shape[0], X_train.shape[1]*X_train.shape[2]) \r\n",
        "X_test = X_test.reshape(X_test.shape[0], X_test.shape[1]*X_test.shape[2]) "
      ],
      "execution_count": 4,
      "outputs": []
    },
    {
      "cell_type": "code",
      "metadata": {
        "id": "pS0szG7TXE8o"
      },
      "source": [
        "#As data is not normalized , let's normalize the data first\r\n",
        "X_train = X_train/255\r\n",
        "X_test = X_test/255"
      ],
      "execution_count": 5,
      "outputs": []
    },
    {
      "cell_type": "code",
      "metadata": {
        "id": "P2GQWMhUXIue"
      },
      "source": [
        "#As the output is not categorical , let's make it categorical \r\n",
        "Y_train = utils.to_categorical(y_train, 10)\r\n",
        "Y_test = utils.to_categorical(y_test, 10)"
      ],
      "execution_count": 6,
      "outputs": []
    },
    {
      "cell_type": "code",
      "metadata": {
        "id": "xmnM6dKKXR3n"
      },
      "source": [
        "#Sequential : Linear stack of Layers\r\n",
        "#Dense : it will do y = activation(WT. X + b)\r\n",
        "#Activation : It is for activation function\r\n",
        "from tensorflow.keras.models import Sequential\r\n",
        "from tensorflow.keras.layers import Dense, Activation\r\n",
        "from tensorflow.keras.layers import Dropout\r\n",
        "from keras.layers.normalization import BatchNormalization\r\n",
        "from tensorflow.keras.optimizers import Adam,RMSprop,SGD"
      ],
      "execution_count": 7,
      "outputs": []
    },
    {
      "cell_type": "code",
      "metadata": {
        "id": "yI-6fGHyXVHG"
      },
      "source": [
        "#Some model Parameters\r\n",
        "output_dim = 10\r\n",
        "input_dim = X_train.shape[1]\r\n",
        "batch_size = 128\r\n",
        "nb_epoch = 20"
      ],
      "execution_count": 8,
      "outputs": []
    },
    {
      "cell_type": "code",
      "metadata": {
        "id": "rB5KeX4kYD1d"
      },
      "source": [
        "def best_hyperparameters(activ):\r\n",
        "\r\n",
        "    model = Sequential()\r\n",
        "    model.add(Dense(512, activation=activ, input_shape=(input_dim,), kernel_initializer=RandomNormal(mean=0.0, stddev=0.062, seed=None)))\r\n",
        "    model.add(BatchNormalization())\r\n",
        "    model.add(Dropout(0.5))\r\n",
        "    model.add(Dense(128, activation=activ, kernel_initializer=RandomNormal(mean=0.0, stddev=0.125, seed=None)) )\r\n",
        "    model.add(BatchNormalization())\r\n",
        "    model.add(Dropout(0.5))\r\n",
        "    model.add(Dense(output_dim, activation='softmax'))\r\n",
        "\r\n",
        "\r\n",
        "    model.compile(loss='categorical_crossentropy', metrics=['accuracy'], optimizer='adam')\r\n",
        "    \r\n",
        "    return model"
      ],
      "execution_count": 9,
      "outputs": []
    },
    {
      "cell_type": "code",
      "metadata": {
        "id": "Hr4RaS3uY0km"
      },
      "source": [
        "from tensorflow.keras.wrappers.scikit_learn import KerasClassifier\r\n",
        "from sklearn.model_selection import GridSearchCV\r\n",
        "\r\n",
        "activ = ['sigmoid','relu']\r\n",
        "model = KerasClassifier(build_fn=best_hyperparameters, epochs=nb_epoch, batch_size=batch_size, verbose=0)\r\n",
        "param_grid = dict(activ=activ)\r\n",
        "\r\n",
        "grid = GridSearchCV(estimator=model, param_grid=param_grid)\r\n",
        "grid_result = grid.fit(X_train, Y_train)"
      ],
      "execution_count": 10,
      "outputs": []
    },
    {
      "cell_type": "code",
      "metadata": {
        "colab": {
          "base_uri": "https://localhost:8080/"
        },
        "id": "z8P5fHOOY_P9",
        "outputId": "70de8ab7-074b-447f-ff38-cf9171f58735"
      },
      "source": [
        "print(\"Best: %f using %s\" % (grid_result.best_score_, grid_result.best_params_))\r\n",
        "means = grid_result.cv_results_['mean_test_score']\r\n",
        "stds = grid_result.cv_results_['std_test_score']\r\n",
        "params = grid_result.cv_results_['params']\r\n",
        "for mean, stdev, param in zip(means, stds, params):\r\n",
        "    print(\"%f (%f) with: %r\" % (mean, stdev, param))"
      ],
      "execution_count": 11,
      "outputs": [
        {
          "output_type": "stream",
          "text": [
            "Best: 0.980167 using {'activ': 'relu'}\n",
            "0.975100 (0.002510) with: {'activ': 'sigmoid'}\n",
            "0.980167 (0.002181) with: {'activ': 'relu'}\n"
          ],
          "name": "stdout"
        }
      ]
    }
  ]
}