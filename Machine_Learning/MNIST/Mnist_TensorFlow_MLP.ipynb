{
  "nbformat": 4,
  "nbformat_minor": 0,
  "metadata": {
    "colab": {
      "name": "TensorFlow_MLP_1",
      "provenance": [],
      "collapsed_sections": []
    },
    "kernelspec": {
      "name": "python3",
      "display_name": "Python 3"
    }
  },
  "cells": [
    {
      "cell_type": "code",
      "metadata": {
        "colab": {
          "base_uri": "https://localhost:8080/"
        },
        "id": "3kOQvSUSCK-i",
        "outputId": "d68efdac-bebf-4da3-d075-d5739b6de91f"
      },
      "source": [
        "!pip install tensorflow==1.8"
      ],
      "execution_count": null,
      "outputs": [
        {
          "output_type": "stream",
          "text": [
            "Collecting tensorflow==1.8\n",
            "\u001b[?25l  Downloading https://files.pythonhosted.org/packages/22/c6/d08f7c549330c2acc1b18b5c1f0f8d9d2af92f54d56861f331f372731671/tensorflow-1.8.0-cp36-cp36m-manylinux1_x86_64.whl (49.1MB)\n",
            "\u001b[K     |████████████████████████████████| 49.1MB 84kB/s \n",
            "\u001b[?25hRequirement already satisfied: grpcio>=1.8.6 in /usr/local/lib/python3.6/dist-packages (from tensorflow==1.8) (1.33.2)\n",
            "Requirement already satisfied: wheel>=0.26 in /usr/local/lib/python3.6/dist-packages (from tensorflow==1.8) (0.35.1)\n",
            "Requirement already satisfied: protobuf>=3.4.0 in /usr/local/lib/python3.6/dist-packages (from tensorflow==1.8) (3.12.4)\n",
            "Requirement already satisfied: astor>=0.6.0 in /usr/local/lib/python3.6/dist-packages (from tensorflow==1.8) (0.8.1)\n",
            "Requirement already satisfied: numpy>=1.13.3 in /usr/local/lib/python3.6/dist-packages (from tensorflow==1.8) (1.18.5)\n",
            "Requirement already satisfied: six>=1.10.0 in /usr/local/lib/python3.6/dist-packages (from tensorflow==1.8) (1.15.0)\n",
            "Requirement already satisfied: termcolor>=1.1.0 in /usr/local/lib/python3.6/dist-packages (from tensorflow==1.8) (1.1.0)\n",
            "Requirement already satisfied: gast>=0.2.0 in /usr/local/lib/python3.6/dist-packages (from tensorflow==1.8) (0.3.3)\n",
            "Requirement already satisfied: absl-py>=0.1.6 in /usr/local/lib/python3.6/dist-packages (from tensorflow==1.8) (0.10.0)\n",
            "Collecting tensorboard<1.9.0,>=1.8.0\n",
            "\u001b[?25l  Downloading https://files.pythonhosted.org/packages/59/a6/0ae6092b7542cfedba6b2a1c9b8dceaf278238c39484f3ba03b03f07803c/tensorboard-1.8.0-py3-none-any.whl (3.1MB)\n",
            "\u001b[K     |████████████████████████████████| 3.1MB 31.1MB/s \n",
            "\u001b[?25hRequirement already satisfied: setuptools in /usr/local/lib/python3.6/dist-packages (from protobuf>=3.4.0->tensorflow==1.8) (50.3.2)\n",
            "Collecting html5lib==0.9999999\n",
            "\u001b[?25l  Downloading https://files.pythonhosted.org/packages/ae/ae/bcb60402c60932b32dfaf19bb53870b29eda2cd17551ba5639219fb5ebf9/html5lib-0.9999999.tar.gz (889kB)\n",
            "\u001b[K     |████████████████████████████████| 890kB 36.2MB/s \n",
            "\u001b[?25hRequirement already satisfied: werkzeug>=0.11.10 in /usr/local/lib/python3.6/dist-packages (from tensorboard<1.9.0,>=1.8.0->tensorflow==1.8) (1.0.1)\n",
            "Collecting bleach==1.5.0\n",
            "  Downloading https://files.pythonhosted.org/packages/33/70/86c5fec937ea4964184d4d6c4f0b9551564f821e1c3575907639036d9b90/bleach-1.5.0-py2.py3-none-any.whl\n",
            "Requirement already satisfied: markdown>=2.6.8 in /usr/local/lib/python3.6/dist-packages (from tensorboard<1.9.0,>=1.8.0->tensorflow==1.8) (3.3.3)\n",
            "Requirement already satisfied: importlib-metadata; python_version < \"3.8\" in /usr/local/lib/python3.6/dist-packages (from markdown>=2.6.8->tensorboard<1.9.0,>=1.8.0->tensorflow==1.8) (2.0.0)\n",
            "Requirement already satisfied: zipp>=0.5 in /usr/local/lib/python3.6/dist-packages (from importlib-metadata; python_version < \"3.8\"->markdown>=2.6.8->tensorboard<1.9.0,>=1.8.0->tensorflow==1.8) (3.4.0)\n",
            "Building wheels for collected packages: html5lib\n",
            "  Building wheel for html5lib (setup.py) ... \u001b[?25l\u001b[?25hdone\n",
            "  Created wheel for html5lib: filename=html5lib-0.9999999-cp36-none-any.whl size=107220 sha256=27011ef228ed325001c35df31ed030fcb5ef5f7ad892438c45cefb222a8659d8\n",
            "  Stored in directory: /root/.cache/pip/wheels/50/ae/f9/d2b189788efcf61d1ee0e36045476735c838898eef1cad6e29\n",
            "Successfully built html5lib\n",
            "Installing collected packages: html5lib, bleach, tensorboard, tensorflow\n",
            "  Found existing installation: html5lib 1.0.1\n",
            "    Uninstalling html5lib-1.0.1:\n",
            "      Successfully uninstalled html5lib-1.0.1\n",
            "  Found existing installation: bleach 3.2.1\n",
            "    Uninstalling bleach-3.2.1:\n",
            "      Successfully uninstalled bleach-3.2.1\n",
            "  Found existing installation: tensorboard 2.3.0\n",
            "    Uninstalling tensorboard-2.3.0:\n",
            "      Successfully uninstalled tensorboard-2.3.0\n",
            "  Found existing installation: tensorflow 2.3.0\n",
            "    Uninstalling tensorflow-2.3.0:\n",
            "      Successfully uninstalled tensorflow-2.3.0\n",
            "Successfully installed bleach-1.5.0 html5lib-0.9999999 tensorboard-1.8.0 tensorflow-1.8.0\n"
          ],
          "name": "stdout"
        }
      ]
    },
    {
      "cell_type": "code",
      "metadata": {
        "colab": {
          "base_uri": "https://localhost:8080/"
        },
        "id": "EB7r1LrtCUWW",
        "outputId": "5d47bda4-f95f-41e7-e10f-6687fc66398b"
      },
      "source": [
        "import numpy as np\r\n",
        "import tensorflow as tf"
      ],
      "execution_count": null,
      "outputs": [
        {
          "output_type": "stream",
          "text": [
            "/usr/local/lib/python3.6/dist-packages/tensorflow/python/framework/dtypes.py:519: FutureWarning: Passing (type, 1) or '1type' as a synonym of type is deprecated; in a future version of numpy, it will be understood as (type, (1,)) / '(1,)type'.\n",
            "  _np_qint8 = np.dtype([(\"qint8\", np.int8, 1)])\n",
            "/usr/local/lib/python3.6/dist-packages/tensorflow/python/framework/dtypes.py:520: FutureWarning: Passing (type, 1) or '1type' as a synonym of type is deprecated; in a future version of numpy, it will be understood as (type, (1,)) / '(1,)type'.\n",
            "  _np_quint8 = np.dtype([(\"quint8\", np.uint8, 1)])\n",
            "/usr/local/lib/python3.6/dist-packages/tensorflow/python/framework/dtypes.py:521: FutureWarning: Passing (type, 1) or '1type' as a synonym of type is deprecated; in a future version of numpy, it will be understood as (type, (1,)) / '(1,)type'.\n",
            "  _np_qint16 = np.dtype([(\"qint16\", np.int16, 1)])\n",
            "/usr/local/lib/python3.6/dist-packages/tensorflow/python/framework/dtypes.py:522: FutureWarning: Passing (type, 1) or '1type' as a synonym of type is deprecated; in a future version of numpy, it will be understood as (type, (1,)) / '(1,)type'.\n",
            "  _np_quint16 = np.dtype([(\"quint16\", np.uint16, 1)])\n",
            "/usr/local/lib/python3.6/dist-packages/tensorflow/python/framework/dtypes.py:523: FutureWarning: Passing (type, 1) or '1type' as a synonym of type is deprecated; in a future version of numpy, it will be understood as (type, (1,)) / '(1,)type'.\n",
            "  _np_qint32 = np.dtype([(\"qint32\", np.int32, 1)])\n",
            "/usr/local/lib/python3.6/dist-packages/tensorflow/python/framework/dtypes.py:528: FutureWarning: Passing (type, 1) or '1type' as a synonym of type is deprecated; in a future version of numpy, it will be understood as (type, (1,)) / '(1,)type'.\n",
            "  np_resource = np.dtype([(\"resource\", np.ubyte, 1)])\n"
          ],
          "name": "stderr"
        }
      ]
    },
    {
      "cell_type": "code",
      "metadata": {
        "colab": {
          "base_uri": "https://localhost:8080/"
        },
        "id": "uppX4zsECVj6",
        "outputId": "5ca59eee-2827-4f63-906f-7f030f865a13"
      },
      "source": [
        "from tensorflow.examples.tutorials.mnist import input_data\r\n",
        "mnist = input_data.read_data_sets(\"MNIST_data/\", one_hot=True)"
      ],
      "execution_count": null,
      "outputs": [
        {
          "output_type": "stream",
          "text": [
            "WARNING:tensorflow:From <ipython-input-3-8bf8ae5a5303>:2: read_data_sets (from tensorflow.contrib.learn.python.learn.datasets.mnist) is deprecated and will be removed in a future version.\n",
            "Instructions for updating:\n",
            "Please use alternatives such as official/mnist/dataset.py from tensorflow/models.\n",
            "WARNING:tensorflow:From /usr/local/lib/python3.6/dist-packages/tensorflow/contrib/learn/python/learn/datasets/mnist.py:260: maybe_download (from tensorflow.contrib.learn.python.learn.datasets.base) is deprecated and will be removed in a future version.\n",
            "Instructions for updating:\n",
            "Please write your own downloading logic.\n",
            "WARNING:tensorflow:From /usr/local/lib/python3.6/dist-packages/tensorflow/contrib/learn/python/learn/datasets/base.py:252: _internal_retry.<locals>.wrap.<locals>.wrapped_fn (from tensorflow.contrib.learn.python.learn.datasets.base) is deprecated and will be removed in a future version.\n",
            "Instructions for updating:\n",
            "Please use urllib or similar directly.\n",
            "Successfully downloaded train-images-idx3-ubyte.gz 9912422 bytes.\n",
            "WARNING:tensorflow:From /usr/local/lib/python3.6/dist-packages/tensorflow/contrib/learn/python/learn/datasets/mnist.py:262: extract_images (from tensorflow.contrib.learn.python.learn.datasets.mnist) is deprecated and will be removed in a future version.\n",
            "Instructions for updating:\n",
            "Please use tf.data to implement this functionality.\n",
            "Extracting MNIST_data/train-images-idx3-ubyte.gz\n",
            "Successfully downloaded train-labels-idx1-ubyte.gz 28881 bytes.\n",
            "WARNING:tensorflow:From /usr/local/lib/python3.6/dist-packages/tensorflow/contrib/learn/python/learn/datasets/mnist.py:267: extract_labels (from tensorflow.contrib.learn.python.learn.datasets.mnist) is deprecated and will be removed in a future version.\n",
            "Instructions for updating:\n",
            "Please use tf.data to implement this functionality.\n",
            "Extracting MNIST_data/train-labels-idx1-ubyte.gz\n",
            "WARNING:tensorflow:From /usr/local/lib/python3.6/dist-packages/tensorflow/contrib/learn/python/learn/datasets/mnist.py:110: dense_to_one_hot (from tensorflow.contrib.learn.python.learn.datasets.mnist) is deprecated and will be removed in a future version.\n",
            "Instructions for updating:\n",
            "Please use tf.one_hot on tensors.\n",
            "Successfully downloaded t10k-images-idx3-ubyte.gz 1648877 bytes.\n",
            "Extracting MNIST_data/t10k-images-idx3-ubyte.gz\n",
            "Successfully downloaded t10k-labels-idx1-ubyte.gz 4542 bytes.\n",
            "Extracting MNIST_data/t10k-labels-idx1-ubyte.gz\n",
            "WARNING:tensorflow:From /usr/local/lib/python3.6/dist-packages/tensorflow/contrib/learn/python/learn/datasets/mnist.py:290: DataSet.__init__ (from tensorflow.contrib.learn.python.learn.datasets.mnist) is deprecated and will be removed in a future version.\n",
            "Instructions for updating:\n",
            "Please use alternatives such as official/mnist/dataset.py from tensorflow/models.\n"
          ],
          "name": "stdout"
        }
      ]
    },
    {
      "cell_type": "code",
      "metadata": {
        "id": "_G_hrnhmDREP"
      },
      "source": [
        "import matplotlib.pyplot as plt\r\n",
        "import time\r\n",
        "def plt_dynamic(x, y, y_1, ax, ticks,title, colors=['b']):\r\n",
        "    ax.plot(x, y, 'b', label=\"Train Loss\")\r\n",
        "    ax.plot(x, y_1, 'r', label=\"Test Loss\")\r\n",
        "    if len(x)==1:\r\n",
        "        plt.legend()\r\n",
        "        plt.title(title)\r\n",
        "    plt.yticks(ticks)\r\n",
        "    fig.canvas.draw()"
      ],
      "execution_count": null,
      "outputs": []
    },
    {
      "cell_type": "code",
      "metadata": {
        "id": "n3IUYVsSDzuw"
      },
      "source": [
        "n_hidden_1 = 512\r\n",
        "n_hidden_2 = 128\r\n",
        "n_input = 784\r\n",
        "n_classes = 10"
      ],
      "execution_count": null,
      "outputs": []
    },
    {
      "cell_type": "code",
      "metadata": {
        "id": "2-3ZYEGpFPYN"
      },
      "source": [
        "# x isn't a specific value. It's a placeholder, a value that we'll input when we ask TensorFlow to run a computation.\r\n",
        "# We represent this as a 2-D tensor of floating-point numbers, with a shape X = [None, 784]. \r\n",
        "x = tf.placeholder(tf.float32, [None, 784])\r\n",
        "y_ = tf.placeholder(tf.float32, [None, 10])\r\n",
        "\r\n",
        "# keep_prob: we will be using these placeholders when we use dropouts, while testing model\r\n",
        "keep_prob = tf.placeholder(tf.float32)\r\n",
        "# keep_prob_input: we will be using these placeholders when we use dropouts, while training model\r\n",
        "keep_prob_input = tf.placeholder(tf.float32)"
      ],
      "execution_count": null,
      "outputs": []
    },
    {
      "cell_type": "markdown",
      "metadata": {
        "id": "dAA0zZUAFpVo"
      },
      "source": [
        "Weight Initialisation"
      ]
    },
    {
      "cell_type": "code",
      "metadata": {
        "id": "kJivp9-VFoqw"
      },
      "source": [
        "# h1 =>  σ=√(2/(fan_in+fan_out+1) = 0.039  => N(0,σ) = N(0,0.039)\r\n",
        "# h2 =>  σ=√(2/(fan_in+fan_out+1) = 0.055  => N(0,σ) = N(0,0.055)\r\n",
        "# out =>  σ=√(2/(fan_in+fan_out+1) = 0.120  => N(0,σ) = N(0,0.120)\r\n",
        "# SIGMOID: Xavier/Glorot Normal initialization.\r\n",
        "weights_sgd = {\r\n",
        "    'h1': tf.Variable(tf.random_normal([n_input, n_hidden_1],stddev=0.039, mean=0)),    #784x512 # sqrt(2/(784+512)) = 0.039\r\n",
        "    'h2': tf.Variable(tf.random_normal([n_hidden_1, n_hidden_2],stddev=0.055, mean=0)), #512x128 # sqrt(2/(512+128)) = 0.055\r\n",
        "    'out': tf.Variable(tf.random_normal([n_hidden_2, n_classes],stddev=0.120, mean=0))  #128x10\r\n",
        "}\r\n",
        "\r\n",
        "# h1 =>  σ=√(2/(fan_in+1) = 0.062  => N(0,σ) = N(0,0.062)\r\n",
        "# h2 =>  σ=√(2/(fan_in+1) = 0.125  => N(0,σ) = N(0,0.125)\r\n",
        "# out =>  σ=√(2/(fan_in+1) = 0.120  => N(0,σ) = N(0,0.120)\r\n",
        "# ReLU: He Normal initialization.\r\n",
        "weights_relu = {\r\n",
        "    'h1': tf.Variable(tf.random_normal([n_input, n_hidden_1],stddev=0.062, mean=0)),    #784x512\r\n",
        "    'h2': tf.Variable(tf.random_normal([n_hidden_1, n_hidden_2],stddev=0.125, mean=0)), #512x128\r\n",
        "    'out': tf.Variable(tf.random_normal([n_hidden_2, n_classes],stddev=0.120, mean=0))  #128x10\r\n",
        "}\r\n",
        "\r\n",
        "biases = {\r\n",
        "    'b1': tf.Variable(tf.random_normal([n_hidden_1])),             #512x1\r\n",
        "    'b2': tf.Variable(tf.random_normal([n_hidden_2])),             #128x1\r\n",
        "    'out': tf.Variable(tf.random_normal([n_classes]))              #10x1\r\n",
        "}"
      ],
      "execution_count": null,
      "outputs": []
    },
    {
      "cell_type": "code",
      "metadata": {
        "id": "wtDnY_aeHlDF"
      },
      "source": [
        "#Parameters\r\n",
        "training_epochs = 15\r\n",
        "learning_rate = 0.001\r\n",
        "batch_size = 100\r\n",
        "display_step = 1"
      ],
      "execution_count": null,
      "outputs": []
    },
    {
      "cell_type": "markdown",
      "metadata": {
        "id": "S0oARQOkIkYp"
      },
      "source": [
        "Model 1: input (784) - sigmoid(512) - sigmoid(128) - softmax(output 10)"
      ]
    },
    {
      "cell_type": "code",
      "metadata": {
        "id": "NObyZOahH0Eu"
      },
      "source": [
        "def multilayer_perceptron(x, weights, biases):\r\n",
        "    print( 'x:', x.get_shape(), 'W[h1]:', weights['h1'].get_shape(), 'b[h1]:', biases['b1'].get_shape())        \r\n",
        "    \r\n",
        "    # Hidden layer with Sigmoid activation\r\n",
        "    layer_1 = tf.add(tf.matmul(x, weights['h1']), biases['b1']) #(x*weights['h1']) + biases['b1']\r\n",
        "    layer_1 = tf.nn.sigmoid(layer_1)\r\n",
        "    print( 'layer_1:', layer_1.get_shape(), 'W[h2]:', weights['h2'].get_shape(), 'b[h2]:', biases['b2'].get_shape())        \r\n",
        "    \r\n",
        "    # Hidden layer with Sigmoid activation\r\n",
        "    layer_2 = tf.add(tf.matmul(layer_1, weights['h2']), biases['b2']) # (layer_1 * weights['h2']) + biases['b2'] \r\n",
        "    layer_2 = tf.nn.sigmoid(layer_2)\r\n",
        "    print( 'layer_2:', layer_2.get_shape(), 'W[out]:', weights['out'].get_shape(), 'b3:', biases['out'].get_shape())        \r\n",
        "    \r\n",
        "    # Output layer with Sigmoid activation\r\n",
        "    out_layer = tf.matmul(layer_2, weights['out']) + biases['out'] # (layer_2 * weights['out']) + biases['out']    \r\n",
        "    out_layer = tf.nn.sigmoid(out_layer)\r\n",
        "    print('out_layer:',out_layer.get_shape())\r\n",
        "\r\n",
        "    return out_layer"
      ],
      "execution_count": null,
      "outputs": []
    },
    {
      "cell_type": "code",
      "metadata": {
        "colab": {
          "base_uri": "https://localhost:8080/",
          "height": 791
        },
        "id": "FaJq3lK9JU-c",
        "outputId": "dfc65cd5-cdf8-42cd-9df9-1363cdd7cc5e"
      },
      "source": [
        "# Since we are using sigmoid activations in hiden layers we will be using weights that are initalized as weights_sgd\r\n",
        "y_sgd = multilayer_perceptron(x, weights_sgd, biases)\r\n",
        "\r\n",
        "cost_sgd = tf.reduce_mean(tf.nn.softmax_cross_entropy_with_logits(logits = y_sgd, labels = y_))\r\n",
        "\r\n",
        "optimizer_adam = tf.train.AdamOptimizer(learning_rate=learning_rate).minimize(cost_sgd)\r\n",
        "\r\n",
        "with tf.Session() as sess:\r\n",
        "    tf.global_variables_initializer().run()\r\n",
        "    fig,ax = plt.subplots(1,1)\r\n",
        "    ax.set_xlabel('epoch') ; ax.set_ylabel('Soft Max Cross Entropy loss')\r\n",
        "    xs, ytrs, ytes = [], [], []\r\n",
        "    for epoch in range(training_epochs):\r\n",
        "        train_avg_cost = 0.\r\n",
        "        test_avg_cost = 0.\r\n",
        "        total_batch = int(mnist.train.num_examples/batch_size)\r\n",
        "\r\n",
        "        # Loop over all batches\r\n",
        "        for i in range(total_batch):\r\n",
        "            batch_xs, batch_ys = mnist.train.next_batch(batch_size)\r\n",
        "            \r\n",
        "            _, c, w = sess.run([optimizer_adam, cost_sgd,weights_sgd], feed_dict={x: batch_xs, y_: batch_ys})\r\n",
        "            train_avg_cost += c / total_batch\r\n",
        "            c = sess.run(cost_sgd, feed_dict={x: mnist.test.images, y_: mnist.test.labels})\r\n",
        "            test_avg_cost += c / total_batch\r\n",
        "\r\n",
        "        xs.append(epoch)\r\n",
        "        ytrs.append(train_avg_cost)\r\n",
        "        ytes.append(test_avg_cost)\r\n",
        "        plt_dynamic(xs, ytrs, ytes, ax, np.arange(1.3, 1.8, step=0.04), \"input-sigmoid(512)-sigmoid(128)-sigmoid(output)-AdamOptimizer\")\r\n",
        "\r\n",
        "        if epoch%display_step == 0:\r\n",
        "            print(\"Epoch:\", '%04d' % (epoch+1), \"train cost={:.9f}\".format(train_avg_cost), \"test cost={:.9f}\".format(test_avg_cost))\r\n",
        "    plt_dynamic(xs, ytrs, ytes, ax, np.arange(1.3, 1.8, step=0.04), \"input-sigmoid(512)-sigmoid(128)-sigmoid(output)-AdamOptimizer\")\r\n",
        "\r\n",
        "    # we are calculating the final accuracy on the test data\r\n",
        "    correct_prediction = tf.equal(tf.argmax(y_sgd,1), tf.argmax(y_,1))\r\n",
        "    accuracy = tf.reduce_mean(tf.cast(correct_prediction, tf.float32))\r\n",
        "    print(\"Accuracy:\", accuracy.eval({x: mnist.test.images, y_: mnist.test.labels}))"
      ],
      "execution_count": null,
      "outputs": [
        {
          "output_type": "stream",
          "text": [
            "x: (?, 784) W[h1]: (784, 512) b[h1]: (512,)\n",
            "layer_1: (?, 512) W[h2]: (512, 128) b[h2]: (128,)\n",
            "layer_2: (?, 128) W[out]: (128, 10) b3: (10,)\n",
            "out_layer: (?, 10)\n",
            "WARNING:tensorflow:From <ipython-input-13-609714450e17>:4: softmax_cross_entropy_with_logits (from tensorflow.python.ops.nn_ops) is deprecated and will be removed in a future version.\n",
            "Instructions for updating:\n",
            "\n",
            "Future major versions of TensorFlow will allow gradients to flow\n",
            "into the labels input on backprop by default.\n",
            "\n",
            "See @{tf.nn.softmax_cross_entropy_with_logits_v2}.\n",
            "\n",
            "Epoch: 0001 train cost=1.682541656 test cost=1.677253344\n",
            "Epoch: 0002 train cost=1.538821529 test cost=1.536891443\n",
            "Epoch: 0003 train cost=1.516063591 test cost=1.516269657\n",
            "Epoch: 0004 train cost=1.503543416 test cost=1.505262508\n",
            "Epoch: 0005 train cost=1.494798918 test cost=1.497777838\n",
            "Epoch: 0006 train cost=1.488974016 test cost=1.492980884\n",
            "Epoch: 0007 train cost=1.484548311 test cost=1.489371681\n",
            "Epoch: 0008 train cost=1.480862112 test cost=1.486972635\n",
            "Epoch: 0009 train cost=1.477776641 test cost=1.485106478\n",
            "Epoch: 0010 train cost=1.475530288 test cost=1.483729904\n",
            "Epoch: 0011 train cost=1.473741220 test cost=1.482745554\n",
            "Epoch: 0012 train cost=1.472097519 test cost=1.482281846\n",
            "Epoch: 0013 train cost=1.470713309 test cost=1.481916679\n",
            "Epoch: 0014 train cost=1.469321512 test cost=1.481594539\n",
            "Epoch: 0015 train cost=1.468511400 test cost=1.481557994\n",
            "Accuracy: 0.979\n"
          ],
          "name": "stdout"
        },
        {
          "output_type": "display_data",
          "data": {
            "image/png": "[encoded data removed]",
            "text/plain": [
              "<Figure size 432x288 with 1 Axes>"
            ]
          },
          "metadata": {
            "tags": [],
            "needs_background": "light"
          }
        }
      ]
    },
    {
      "cell_type": "code",
      "metadata": {
        "colab": {
          "base_uri": "https://localhost:8080/",
          "height": 285
        },
        "id": "8aKKLoRycnHB",
        "outputId": "49c92614-37da-4f92-fc8d-038905312c17"
      },
      "source": [
        "\r\n",
        "# Plot weight distribution at the end of training.\r\n",
        "\r\n",
        "import seaborn as sns\r\n",
        "h1_w = w['h1'].flatten().reshape(-1,1)\r\n",
        "h2_w = w['h2'].flatten().reshape(-1,1)\r\n",
        "out_w = w['out'].flatten().reshape(-1,1)\r\n",
        "\r\n",
        "\r\n",
        "fig = plt.figure()\r\n",
        "plt.subplot(1, 3, 1)\r\n",
        "plt.title(\"Weight matrix\")\r\n",
        "ax = sns.violinplot(y=h1_w,color='b')\r\n",
        "plt.xlabel('Hidden Layer 1')\r\n",
        "\r\n",
        "plt.subplot(1, 3, 2)\r\n",
        "plt.title(\"Weight matrix \")\r\n",
        "ax = sns.violinplot(y=h2_w, color='r')\r\n",
        "plt.xlabel('Hidden Layer 2 ')\r\n",
        "\r\n",
        "plt.subplot(1, 3, 3)\r\n",
        "plt.title(\"Weight matrix \")\r\n",
        "ax = sns.violinplot(y=out_w,color='y')\r\n",
        "plt.xlabel('Output Layer ')\r\n",
        "plt.show()"
      ],
      "execution_count": null,
      "outputs": [
        {
          "output_type": "display_data",
          "data": {
            "image/png": "[encoded data removed]",
            "text/plain": [
              "<Figure size 432x288 with 3 Axes>"
            ]
          },
          "metadata": {
            "tags": [],
            "needs_background": "light"
          }
        }
      ]
    },
    {
      "cell_type": "code",
      "metadata": {
        "id": "MonwkAmYcoPW",
        "colab": {
          "base_uri": "https://localhost:8080/",
          "height": 703
        },
        "outputId": "3b307480-61c8-4d2b-b199-bb885208935f"
      },
      "source": [
        "#\r\n",
        "#Stochastic Gradient Descent Optimizer\r\n",
        "#\r\n",
        "\r\n",
        "optimizer_sgdc = tf.train.GradientDescentOptimizer(learning_rate=learning_rate).minimize(cost_sgd)\r\n",
        "\r\n",
        "with tf.Session() as sess:\r\n",
        "    tf.global_variables_initializer().run()\r\n",
        "    fig,ax = plt.subplots(1,1)\r\n",
        "    ax.set_xlabel('epoch') ; ax.set_ylabel('Soft Max Cross Entropy loss')\r\n",
        "    xs, ytrs, ytes = [], [], []\r\n",
        "    for epoch in range(training_epochs):\r\n",
        "        train_avg_cost = 0.\r\n",
        "        test_avg_cost = 0.\r\n",
        "        total_batch = int(mnist.train.num_examples/batch_size)\r\n",
        "\r\n",
        "        # Loop over all batches\r\n",
        "        for i in range(total_batch):\r\n",
        "            batch_xs, batch_ys = mnist.train.next_batch(batch_size)\r\n",
        "\r\n",
        "            # here we use GradientDescentOptimizer\r\n",
        "            _, c, w = sess.run([optimizer_sgdc, cost_sgd, weights_sgd], feed_dict={x: batch_xs, y_: batch_ys})\r\n",
        "            train_avg_cost += c / total_batch\r\n",
        "            c = sess.run(cost_sgd, feed_dict={x: mnist.test.images, y_: mnist.test.labels})\r\n",
        "            test_avg_cost += c / total_batch\r\n",
        "\r\n",
        "        xs.append(epoch)\r\n",
        "        ytrs.append(train_avg_cost)\r\n",
        "        ytes.append(test_avg_cost)\r\n",
        "        plt_dynamic(xs, ytrs, ytes, ax, np.arange(2, 2.6, step=0.05), \"input-sigmoid(512)-sigmoid(128)-sigmoid(output)-GradientDescentOptimizer\")\r\n",
        "\r\n",
        "        if epoch%display_step == 0:\r\n",
        "            print(\"Epoch:\", '%04d' % (epoch+1), \"train cost={:.9f}\".format(train_avg_cost), \"test cost={:.9f}\".format(test_avg_cost))\r\n",
        "    plt_dynamic(xs, ytrs, ytes, ax, np.arange(2, 2.6, step=0.05), \"input-sigmoid(512)-sigmoid(128)-sigmoid(output)-GradientDescentOptimizer\")\r\n",
        "\r\n",
        "    # we are calculating the final accuracy on the test data\r\n",
        "    correct_prediction = tf.equal(tf.argmax(y_sgd,1), tf.argmax(y_,1))\r\n",
        "    accuracy = tf.reduce_mean(tf.cast(correct_prediction, tf.float32))\r\n",
        "    print(\"Accuracy:\", accuracy.eval({x: mnist.test.images, y_: mnist.test.labels}))"
      ],
      "execution_count": 16,
      "outputs": [
        {
          "output_type": "stream",
          "text": [
            "Epoch: 0001 train cost=2.340959017 test cost=2.337947513\n",
            "Epoch: 0002 train cost=2.335820126 test cost=2.334418576\n"
          ],
          "name": "stdout"
        },
        {
          "output_type": "error",
          "ename": "KeyboardInterrupt",
          "evalue": "ignored",
          "traceback": [
            "\u001b[0;31m---------------------------------------------------------------------------\u001b[0m",
            "\u001b[0;31mKeyboardInterrupt\u001b[0m                         Traceback (most recent call last)",
            "\u001b[0;32m<ipython-input-16-4465090095e4>\u001b[0m in \u001b[0;36m<module>\u001b[0;34m()\u001b[0m\n\u001b[1;32m     22\u001b[0m             \u001b[0m_\u001b[0m\u001b[0;34m,\u001b[0m \u001b[0mc\u001b[0m\u001b[0;34m,\u001b[0m \u001b[0mw\u001b[0m \u001b[0;34m=\u001b[0m \u001b[0msess\u001b[0m\u001b[0;34m.\u001b[0m\u001b[0mrun\u001b[0m\u001b[0;34m(\u001b[0m\u001b[0;34m[\u001b[0m\u001b[0moptimizer_sgdc\u001b[0m\u001b[0;34m,\u001b[0m \u001b[0mcost_sgd\u001b[0m\u001b[0;34m,\u001b[0m \u001b[0mweights_sgd\u001b[0m\u001b[0;34m]\u001b[0m\u001b[0;34m,\u001b[0m \u001b[0mfeed_dict\u001b[0m\u001b[0;34m=\u001b[0m\u001b[0;34m{\u001b[0m\u001b[0mx\u001b[0m\u001b[0;34m:\u001b[0m \u001b[0mbatch_xs\u001b[0m\u001b[0;34m,\u001b[0m \u001b[0my_\u001b[0m\u001b[0;34m:\u001b[0m \u001b[0mbatch_ys\u001b[0m\u001b[0;34m}\u001b[0m\u001b[0;34m)\u001b[0m\u001b[0;34m\u001b[0m\u001b[0;34m\u001b[0m\u001b[0m\n\u001b[1;32m     23\u001b[0m             \u001b[0mtrain_avg_cost\u001b[0m \u001b[0;34m+=\u001b[0m \u001b[0mc\u001b[0m \u001b[0;34m/\u001b[0m \u001b[0mtotal_batch\u001b[0m\u001b[0;34m\u001b[0m\u001b[0;34m\u001b[0m\u001b[0m\n\u001b[0;32m---> 24\u001b[0;31m             \u001b[0mc\u001b[0m \u001b[0;34m=\u001b[0m \u001b[0msess\u001b[0m\u001b[0;34m.\u001b[0m\u001b[0mrun\u001b[0m\u001b[0;34m(\u001b[0m\u001b[0mcost_sgd\u001b[0m\u001b[0;34m,\u001b[0m \u001b[0mfeed_dict\u001b[0m\u001b[0;34m=\u001b[0m\u001b[0;34m{\u001b[0m\u001b[0mx\u001b[0m\u001b[0;34m:\u001b[0m \u001b[0mmnist\u001b[0m\u001b[0;34m.\u001b[0m\u001b[0mtest\u001b[0m\u001b[0;34m.\u001b[0m\u001b[0mimages\u001b[0m\u001b[0;34m,\u001b[0m \u001b[0my_\u001b[0m\u001b[0;34m:\u001b[0m \u001b[0mmnist\u001b[0m\u001b[0;34m.\u001b[0m\u001b[0mtest\u001b[0m\u001b[0;34m.\u001b[0m\u001b[0mlabels\u001b[0m\u001b[0;34m}\u001b[0m\u001b[0;34m)\u001b[0m\u001b[0;34m\u001b[0m\u001b[0;34m\u001b[0m\u001b[0m\n\u001b[0m\u001b[1;32m     25\u001b[0m             \u001b[0mtest_avg_cost\u001b[0m \u001b[0;34m+=\u001b[0m \u001b[0mc\u001b[0m \u001b[0;34m/\u001b[0m \u001b[0mtotal_batch\u001b[0m\u001b[0;34m\u001b[0m\u001b[0;34m\u001b[0m\u001b[0m\n\u001b[1;32m     26\u001b[0m \u001b[0;34m\u001b[0m\u001b[0m\n",
            "\u001b[0;32m/usr/local/lib/python3.6/dist-packages/tensorflow/python/client/session.py\u001b[0m in \u001b[0;36mrun\u001b[0;34m(self, fetches, feed_dict, options, run_metadata)\u001b[0m\n\u001b[1;32m    898\u001b[0m     \u001b[0;32mtry\u001b[0m\u001b[0;34m:\u001b[0m\u001b[0;34m\u001b[0m\u001b[0;34m\u001b[0m\u001b[0m\n\u001b[1;32m    899\u001b[0m       result = self._run(None, fetches, feed_dict, options_ptr,\n\u001b[0;32m--> 900\u001b[0;31m                          run_metadata_ptr)\n\u001b[0m\u001b[1;32m    901\u001b[0m       \u001b[0;32mif\u001b[0m \u001b[0mrun_metadata\u001b[0m\u001b[0;34m:\u001b[0m\u001b[0;34m\u001b[0m\u001b[0;34m\u001b[0m\u001b[0m\n\u001b[1;32m    902\u001b[0m         \u001b[0mproto_data\u001b[0m \u001b[0;34m=\u001b[0m \u001b[0mtf_session\u001b[0m\u001b[0;34m.\u001b[0m\u001b[0mTF_GetBuffer\u001b[0m\u001b[0;34m(\u001b[0m\u001b[0mrun_metadata_ptr\u001b[0m\u001b[0;34m)\u001b[0m\u001b[0;34m\u001b[0m\u001b[0;34m\u001b[0m\u001b[0m\n",
            "\u001b[0;32m/usr/local/lib/python3.6/dist-packages/tensorflow/python/client/session.py\u001b[0m in \u001b[0;36m_run\u001b[0;34m(self, handle, fetches, feed_dict, options, run_metadata)\u001b[0m\n\u001b[1;32m   1133\u001b[0m     \u001b[0;32mif\u001b[0m \u001b[0mfinal_fetches\u001b[0m \u001b[0;32mor\u001b[0m \u001b[0mfinal_targets\u001b[0m \u001b[0;32mor\u001b[0m \u001b[0;34m(\u001b[0m\u001b[0mhandle\u001b[0m \u001b[0;32mand\u001b[0m \u001b[0mfeed_dict_tensor\u001b[0m\u001b[0;34m)\u001b[0m\u001b[0;34m:\u001b[0m\u001b[0;34m\u001b[0m\u001b[0;34m\u001b[0m\u001b[0m\n\u001b[1;32m   1134\u001b[0m       results = self._do_run(handle, final_targets, final_fetches,\n\u001b[0;32m-> 1135\u001b[0;31m                              feed_dict_tensor, options, run_metadata)\n\u001b[0m\u001b[1;32m   1136\u001b[0m     \u001b[0;32melse\u001b[0m\u001b[0;34m:\u001b[0m\u001b[0;34m\u001b[0m\u001b[0;34m\u001b[0m\u001b[0m\n\u001b[1;32m   1137\u001b[0m       \u001b[0mresults\u001b[0m \u001b[0;34m=\u001b[0m \u001b[0;34m[\u001b[0m\u001b[0;34m]\u001b[0m\u001b[0;34m\u001b[0m\u001b[0;34m\u001b[0m\u001b[0m\n",
            "\u001b[0;32m/usr/local/lib/python3.6/dist-packages/tensorflow/python/client/session.py\u001b[0m in \u001b[0;36m_do_run\u001b[0;34m(self, handle, target_list, fetch_list, feed_dict, options, run_metadata)\u001b[0m\n\u001b[1;32m   1314\u001b[0m     \u001b[0;32mif\u001b[0m \u001b[0mhandle\u001b[0m \u001b[0;32mis\u001b[0m \u001b[0;32mNone\u001b[0m\u001b[0;34m:\u001b[0m\u001b[0;34m\u001b[0m\u001b[0;34m\u001b[0m\u001b[0m\n\u001b[1;32m   1315\u001b[0m       return self._do_call(_run_fn, feeds, fetches, targets, options,\n\u001b[0;32m-> 1316\u001b[0;31m                            run_metadata)\n\u001b[0m\u001b[1;32m   1317\u001b[0m     \u001b[0;32melse\u001b[0m\u001b[0;34m:\u001b[0m\u001b[0;34m\u001b[0m\u001b[0;34m\u001b[0m\u001b[0m\n\u001b[1;32m   1318\u001b[0m       \u001b[0;32mreturn\u001b[0m \u001b[0mself\u001b[0m\u001b[0;34m.\u001b[0m\u001b[0m_do_call\u001b[0m\u001b[0;34m(\u001b[0m\u001b[0m_prun_fn\u001b[0m\u001b[0;34m,\u001b[0m \u001b[0mhandle\u001b[0m\u001b[0;34m,\u001b[0m \u001b[0mfeeds\u001b[0m\u001b[0;34m,\u001b[0m \u001b[0mfetches\u001b[0m\u001b[0;34m)\u001b[0m\u001b[0;34m\u001b[0m\u001b[0;34m\u001b[0m\u001b[0m\n",
            "\u001b[0;32m/usr/local/lib/python3.6/dist-packages/tensorflow/python/client/session.py\u001b[0m in \u001b[0;36m_do_call\u001b[0;34m(self, fn, *args)\u001b[0m\n\u001b[1;32m   1320\u001b[0m   \u001b[0;32mdef\u001b[0m \u001b[0m_do_call\u001b[0m\u001b[0;34m(\u001b[0m\u001b[0mself\u001b[0m\u001b[0;34m,\u001b[0m \u001b[0mfn\u001b[0m\u001b[0;34m,\u001b[0m \u001b[0;34m*\u001b[0m\u001b[0margs\u001b[0m\u001b[0;34m)\u001b[0m\u001b[0;34m:\u001b[0m\u001b[0;34m\u001b[0m\u001b[0;34m\u001b[0m\u001b[0m\n\u001b[1;32m   1321\u001b[0m     \u001b[0;32mtry\u001b[0m\u001b[0;34m:\u001b[0m\u001b[0;34m\u001b[0m\u001b[0;34m\u001b[0m\u001b[0m\n\u001b[0;32m-> 1322\u001b[0;31m       \u001b[0;32mreturn\u001b[0m \u001b[0mfn\u001b[0m\u001b[0;34m(\u001b[0m\u001b[0;34m*\u001b[0m\u001b[0margs\u001b[0m\u001b[0;34m)\u001b[0m\u001b[0;34m\u001b[0m\u001b[0;34m\u001b[0m\u001b[0m\n\u001b[0m\u001b[1;32m   1323\u001b[0m     \u001b[0;32mexcept\u001b[0m \u001b[0merrors\u001b[0m\u001b[0;34m.\u001b[0m\u001b[0mOpError\u001b[0m \u001b[0;32mas\u001b[0m \u001b[0me\u001b[0m\u001b[0;34m:\u001b[0m\u001b[0;34m\u001b[0m\u001b[0;34m\u001b[0m\u001b[0m\n\u001b[1;32m   1324\u001b[0m       \u001b[0mmessage\u001b[0m \u001b[0;34m=\u001b[0m \u001b[0mcompat\u001b[0m\u001b[0;34m.\u001b[0m\u001b[0mas_text\u001b[0m\u001b[0;34m(\u001b[0m\u001b[0me\u001b[0m\u001b[0;34m.\u001b[0m\u001b[0mmessage\u001b[0m\u001b[0;34m)\u001b[0m\u001b[0;34m\u001b[0m\u001b[0;34m\u001b[0m\u001b[0m\n",
            "\u001b[0;32m/usr/local/lib/python3.6/dist-packages/tensorflow/python/client/session.py\u001b[0m in \u001b[0;36m_run_fn\u001b[0;34m(feed_dict, fetch_list, target_list, options, run_metadata)\u001b[0m\n\u001b[1;32m   1305\u001b[0m       \u001b[0mself\u001b[0m\u001b[0;34m.\u001b[0m\u001b[0m_extend_graph\u001b[0m\u001b[0;34m(\u001b[0m\u001b[0;34m)\u001b[0m\u001b[0;34m\u001b[0m\u001b[0;34m\u001b[0m\u001b[0m\n\u001b[1;32m   1306\u001b[0m       return self._call_tf_sessionrun(\n\u001b[0;32m-> 1307\u001b[0;31m           options, feed_dict, fetch_list, target_list, run_metadata)\n\u001b[0m\u001b[1;32m   1308\u001b[0m \u001b[0;34m\u001b[0m\u001b[0m\n\u001b[1;32m   1309\u001b[0m     \u001b[0;32mdef\u001b[0m \u001b[0m_prun_fn\u001b[0m\u001b[0;34m(\u001b[0m\u001b[0mhandle\u001b[0m\u001b[0;34m,\u001b[0m \u001b[0mfeed_dict\u001b[0m\u001b[0;34m,\u001b[0m \u001b[0mfetch_list\u001b[0m\u001b[0;34m)\u001b[0m\u001b[0;34m:\u001b[0m\u001b[0;34m\u001b[0m\u001b[0;34m\u001b[0m\u001b[0m\n",
            "\u001b[0;32m/usr/local/lib/python3.6/dist-packages/tensorflow/python/client/session.py\u001b[0m in \u001b[0;36m_call_tf_sessionrun\u001b[0;34m(self, options, feed_dict, fetch_list, target_list, run_metadata)\u001b[0m\n\u001b[1;32m   1407\u001b[0m       return tf_session.TF_SessionRun_wrapper(\n\u001b[1;32m   1408\u001b[0m           \u001b[0mself\u001b[0m\u001b[0;34m.\u001b[0m\u001b[0m_session\u001b[0m\u001b[0;34m,\u001b[0m \u001b[0moptions\u001b[0m\u001b[0;34m,\u001b[0m \u001b[0mfeed_dict\u001b[0m\u001b[0;34m,\u001b[0m \u001b[0mfetch_list\u001b[0m\u001b[0;34m,\u001b[0m \u001b[0mtarget_list\u001b[0m\u001b[0;34m,\u001b[0m\u001b[0;34m\u001b[0m\u001b[0;34m\u001b[0m\u001b[0m\n\u001b[0;32m-> 1409\u001b[0;31m           run_metadata)\n\u001b[0m\u001b[1;32m   1410\u001b[0m     \u001b[0;32melse\u001b[0m\u001b[0;34m:\u001b[0m\u001b[0;34m\u001b[0m\u001b[0;34m\u001b[0m\u001b[0m\n\u001b[1;32m   1411\u001b[0m       \u001b[0;32mwith\u001b[0m \u001b[0merrors\u001b[0m\u001b[0;34m.\u001b[0m\u001b[0mraise_exception_on_not_ok_status\u001b[0m\u001b[0;34m(\u001b[0m\u001b[0;34m)\u001b[0m \u001b[0;32mas\u001b[0m \u001b[0mstatus\u001b[0m\u001b[0;34m:\u001b[0m\u001b[0;34m\u001b[0m\u001b[0;34m\u001b[0m\u001b[0m\n",
            "\u001b[0;31mKeyboardInterrupt\u001b[0m: "
          ]
        },
        {
          "output_type": "display_data",
          "data": {
            "image/png": "[encoded data removed]",
            "text/plain": [
              "<Figure size 432x288 with 1 Axes>"
            ]
          },
          "metadata": {
            "tags": [],
            "needs_background": "light"
          }
        }
      ]
    },
    {
      "cell_type": "code",
      "metadata": {
        "id": "-KAve-sLfGJ_",
        "colab": {
          "base_uri": "https://localhost:8080/",
          "height": 285
        },
        "outputId": "1c3eca01-5eb6-45b6-9555-7b3d9490c33e"
      },
      "source": [
        "# Plot weight distribution at the end of training.\r\n",
        "\r\n",
        "import seaborn as sns\r\n",
        "h1_w = w['h1'].flatten().reshape(-1,1)\r\n",
        "h2_w = w['h2'].flatten().reshape(-1,1)\r\n",
        "out_w = w['out'].flatten().reshape(-1,1)\r\n",
        "\r\n",
        "\r\n",
        "fig = plt.figure()\r\n",
        "plt.subplot(1, 3, 1)\r\n",
        "plt.title(\"Weight matrix\")\r\n",
        "ax = sns.violinplot(y=h1_w,color='b')\r\n",
        "plt.xlabel('Hidden Layer 1')\r\n",
        "\r\n",
        "plt.subplot(1, 3, 2)\r\n",
        "plt.title(\"Weight matrix \")\r\n",
        "ax = sns.violinplot(y=h2_w, color='r')\r\n",
        "plt.xlabel('Hidden Layer 2 ')\r\n",
        "\r\n",
        "plt.subplot(1, 3, 3)\r\n",
        "plt.title(\"Weight matrix \")\r\n",
        "ax = sns.violinplot(y=out_w,color='y')\r\n",
        "plt.xlabel('Output Layer ')\r\n",
        "plt.show()"
      ],
      "execution_count": 17,
      "outputs": [
        {
          "output_type": "display_data",
          "data": {
            "image/png": "[encoded data removed]",
            "text/plain": [
              "<Figure size 432x288 with 3 Axes>"
            ]
          },
          "metadata": {
            "tags": [],
            "needs_background": "light"
          }
        }
      ]
    },
    {
      "cell_type": "markdown",
      "metadata": {
        "id": "oLUf4rDZg4Yk"
      },
      "source": [
        "Model2: input (784) - ReLu(512) - ReLu(128) - sigmoid(output 10)"
      ]
    },
    {
      "cell_type": "code",
      "metadata": {
        "id": "mFAaCUL_hUGr"
      },
      "source": [
        "def multilayer_perceptron_relu(x, weights, biases):\r\n",
        "    print( 'x:', x.get_shape(), 'W[h1]:', weights['h1'].get_shape(), 'b[h1]:', biases['b1'].get_shape())        \r\n",
        "    \r\n",
        "    layer_1 = tf.add(tf.matmul(x, weights['h1']), biases['b1']) #(x*weights['h1']) + biases['b1']\r\n",
        "    layer_1 = tf.nn.relu(layer_1)\r\n",
        "    print( 'layer_1:', layer_1.get_shape(), 'W[h2]:', weights['h2'].get_shape(), 'b[h2]:', biases['b2'].get_shape())        \r\n",
        "    \r\n",
        "    # Hidden layer with ReLu activation\r\n",
        "    layer_2 = tf.add(tf.matmul(layer_1, weights['h2']), biases['b2']) # (layer_1 * weights['h2']) + biases['b2'] \r\n",
        "    layer_2 = tf.nn.relu(layer_2)\r\n",
        "    print( 'layer_2:', layer_2.get_shape(), 'W[out]:', weights['out'].get_shape(), 'b3:', biases['out'].get_shape())        \r\n",
        "    \r\n",
        "    # Output layer with Sigmoid activation\r\n",
        "    out_layer = tf.matmul(layer_2, weights['out']) + biases['out'] # (layer_2 * weights['out']) + biases['out']    \r\n",
        "    out_layer = tf.nn.sigmoid(out_layer)\r\n",
        "    print('out_layer:',out_layer.get_shape())\r\n",
        "\r\n",
        "    return out_layer"
      ],
      "execution_count": null,
      "outputs": []
    },
    {
      "cell_type": "code",
      "metadata": {
        "id": "YBYclG_phv-M"
      },
      "source": [
        "#Adam Optimizer\r\n",
        "#Adam Optimizer\r\n",
        "yrelu = multilayer_perceptron_relu(x, weights_relu, biases)\r\n",
        "\r\n",
        "# https://www.tensorflow.org/api_docs/python/tf/nn/softmax_cross_entropy_with_logits\r\n",
        "cost_relu = tf.reduce_mean(tf.nn.softmax_cross_entropy_with_logits(logits = yrelu, labels = y_))\r\n",
        "\r\n",
        "optimizer_relu_adam = tf.train.AdamOptimizer(learning_rate=learning_rate).minimize(cost_relu)\r\n",
        "optimizer_relu_sgdc = tf.train.GradientDescentOptimizer(learning_rate=learning_rate).minimize(cost_relu)\r\n",
        "with tf.Session() as sess:\r\n",
        "    tf.global_variables_initializer().run()\r\n",
        "    \r\n",
        "    fig,ax = plt.subplots(1,1)\r\n",
        "    ax.set_xlabel('epoch') ; ax.set_ylabel('Soft Max Cross Entropy loss')\r\n",
        "    xs, ytrs, ytes = [], [], []\r\n",
        "    for epoch in range(training_epochs):\r\n",
        "        train_avg_cost = 0.\r\n",
        "        test_avg_cost = 0.\r\n",
        "        total_batch = int(mnist.train.num_examples/batch_size)\r\n",
        "\r\n",
        "        # Loop over all batches\r\n",
        "        for i in range(total_batch):\r\n",
        "            batch_xs, batch_ys = mnist.train.next_batch(batch_size)\r\n",
        "\r\n",
        "            # here we use AdamOptimizer\r\n",
        "            _, c, w = sess.run([optimizer_relu_adam, cost_relu, weights_relu], feed_dict={x: batch_xs, y_: batch_ys})\r\n",
        "            train_avg_cost += c / total_batch\r\n",
        "            c = sess.run(cost_relu, feed_dict={x: mnist.test.images, y_: mnist.test.labels})\r\n",
        "            test_avg_cost += c / total_batch\r\n",
        "\r\n",
        "        xs.append(epoch)\r\n",
        "        ytrs.append(train_avg_cost)\r\n",
        "        ytes.append(test_avg_cost)\r\n",
        "        plt_dynamic(xs, ytrs, ytes, ax, np.arange(1.3, 1.8, step=0.04), \"input-ReLu(512)-ReLu(128)-sigmoid(output)-AdamOptimizer\")\r\n",
        "\r\n",
        "        if epoch%display_step == 0:\r\n",
        "            print(\"Epoch:\", '%04d' % (epoch+1), \"train cost={:.9f}\".format(train_avg_cost), \"test cost={:.9f}\".format(test_avg_cost))\r\n",
        "\r\n",
        "    # plot final results\r\n",
        "    plt_dynamic(xs, ytrs, ytes, ax,np.arange(1.3, 1.8, step=0.04), \"input-ReLu(512)-ReLu(128)-sigmoid(output)-AdamOptimizer\")\r\n",
        "\r\n",
        "    # we are calculating the final accuracy on the test data\r\n",
        "    correct_prediction = tf.equal(tf.argmax(yrelu,1), tf.argmax(y_,1))\r\n",
        "    accuracy = tf.reduce_mean(tf.cast(correct_prediction, tf.float32))\r\n",
        "    print(\"Accuracy:\", accuracy.eval({x: mnist.test.images, y_: mnist.test.labels}))"
      ],
      "execution_count": null,
      "outputs": []
    },
    {
      "cell_type": "code",
      "metadata": {
        "id": "XAIYbtzOjw2y"
      },
      "source": [
        "# Plot weight distribution at the end of training.\r\n",
        "\r\n",
        "import seaborn as sns\r\n",
        "h1_w = w['h1'].flatten().reshape(-1,1)\r\n",
        "h2_w = w['h2'].flatten().reshape(-1,1)\r\n",
        "out_w = w['out'].flatten().reshape(-1,1)\r\n",
        "\r\n",
        "\r\n",
        "fig = plt.figure()\r\n",
        "plt.subplot(1, 3, 1)\r\n",
        "plt.title(\"Weight matrix\")\r\n",
        "ax = sns.violinplot(y=h1_w,color='b')\r\n",
        "plt.xlabel('Hidden Layer 1')\r\n",
        "\r\n",
        "plt.subplot(1, 3, 2)\r\n",
        "plt.title(\"Weight matrix \")\r\n",
        "ax = sns.violinplot(y=h2_w, color='r')\r\n",
        "plt.xlabel('Hidden Layer 2 ')\r\n",
        "\r\n",
        "plt.subplot(1, 3, 3)\r\n",
        "plt.title(\"Weight matrix \")\r\n",
        "ax = sns.violinplot(y=out_w,color='y')\r\n",
        "plt.xlabel('Output Layer ')\r\n",
        "plt.show()"
      ],
      "execution_count": null,
      "outputs": []
    },
    {
      "cell_type": "code",
      "metadata": {
        "id": "IrQpKSS4jyxV"
      },
      "source": [
        "#GradientDescentOptimizer\r\n",
        "#GradientDescentOptimizer\r\n",
        "with tf.Session() as sess:\r\n",
        "    tf.global_variables_initializer().run()\r\n",
        "    fig,ax = plt.subplots(1,1)\r\n",
        "    ax.set_xlabel('epoch') ; ax.set_ylabel('Soft Max Cross Entropy loss')\r\n",
        "    xs, ytrs, ytes = [], [], []\r\n",
        "    for epoch in range(training_epochs):\r\n",
        "        train_avg_cost = 0.\r\n",
        "        test_avg_cost = 0.\r\n",
        "        total_batch = int(mnist.train.num_examples/batch_size)\r\n",
        "\r\n",
        "        # Loop over all batches\r\n",
        "        for i in range(total_batch):\r\n",
        "            batch_xs, batch_ys = mnist.train.next_batch(batch_size)\r\n",
        "\r\n",
        "            # here we use GradientDescentOptimizer\r\n",
        "            _, c, w = sess.run([optimizer_relu_sgdc, cost_relu, weights_relu], feed_dict={x: batch_xs, y_: batch_ys})\r\n",
        "            train_avg_cost += c / total_batch\r\n",
        "            c = sess.run(cost_relu, feed_dict={x: mnist.test.images, y_: mnist.test.labels})\r\n",
        "            test_avg_cost += c / total_batch\r\n",
        "\r\n",
        "        xs.append(epoch)\r\n",
        "        ytrs.append(train_avg_cost)\r\n",
        "        ytes.append(test_avg_cost)\r\n",
        "        plt_dynamic(xs, ytrs, ytes, ax, np.arange(1.5, 2.4, step=0.05), \"input-ReLu(512)-ReLu(128)-sigmoid(output)-GradientDescentOptimizer\")\r\n",
        "\r\n",
        "        if epoch%display_step == 0:\r\n",
        "            print(\"Epoch:\", '%04d' % (epoch+1), \"train cost={:.9f}\".format(train_avg_cost), \"test cost={:.9f}\".format(test_avg_cost))\r\n",
        "\r\n",
        "    # plot final results\r\n",
        "    plt_dynamic(xs, ytrs, ytes, ax, np.arange(1.5, 2.4, step=0.05), \"input-ReLu(512)-ReLu(128)-sigmoid(output)-GradientDescentOptimizer\")\r\n",
        "\r\n",
        "    # we are calculating the final accuracy on the test data\r\n",
        "    correct_prediction = tf.equal(tf.argmax(yrelu,1), tf.argmax(y_,1))\r\n",
        "    accuracy = tf.reduce_mean(tf.cast(correct_prediction, tf.float32))\r\n",
        "    print(\"Accuracy:\", accuracy.eval({x: mnist.test.images, y_: mnist.test.labels}))"
      ],
      "execution_count": null,
      "outputs": []
    },
    {
      "cell_type": "code",
      "metadata": {
        "id": "EFNseODQjzc8"
      },
      "source": [
        "# Plot weight distribution at the end of training.\r\n",
        "\r\n",
        "import seaborn as sns\r\n",
        "h1_w = w['h1'].flatten().reshape(-1,1)\r\n",
        "h2_w = w['h2'].flatten().reshape(-1,1)\r\n",
        "out_w = w['out'].flatten().reshape(-1,1)\r\n",
        "\r\n",
        "\r\n",
        "fig = plt.figure()\r\n",
        "plt.subplot(1, 3, 1)\r\n",
        "plt.title(\"Weight matrix\")\r\n",
        "ax = sns.violinplot(y=h1_w,color='b')\r\n",
        "plt.xlabel('Hidden Layer 1')\r\n",
        "\r\n",
        "plt.subplot(1, 3, 2)\r\n",
        "plt.title(\"Weight matrix \")\r\n",
        "ax = sns.violinplot(y=h2_w, color='r')\r\n",
        "plt.xlabel('Hidden Layer 2 ')\r\n",
        "\r\n",
        "plt.subplot(1, 3, 3)\r\n",
        "plt.title(\"Weight matrix \")\r\n",
        "ax = sns.violinplot(y=out_w,color='y')\r\n",
        "plt.xlabel('Output Layer ')\r\n",
        "plt.show()"
      ],
      "execution_count": null,
      "outputs": []
    },
    {
      "cell_type": "markdown",
      "metadata": {
        "id": "-mU66BqTkLJJ"
      },
      "source": [
        "Model 3: Input - Sigmoid(BatchNormalization(512)) - Sigmoid(BatchNormalization(128))- Sigmoid(output)"
      ]
    },
    {
      "cell_type": "code",
      "metadata": {
        "id": "D267GAuYkKZo"
      },
      "source": [
        "epsilon = 1e-3\r\n",
        "#0.001\r\n",
        "def multilayer_perceptron_batch(x, weights, biases):\r\n",
        "    print( 'x:', x.get_shape(), 'W[h1]:', weights['h1'].get_shape(), 'b[h1]:', biases['b1'].get_shape())        \r\n",
        "    \r\n",
        "    layer_1 = tf.add(tf.matmul(x, weights['h1']), biases['b1']) #(x*weights['h1']) + biases['b1']\r\n",
        "    \r\n",
        "    # Calculate the mean and variance of x.\r\n",
        "    batch_mean_1, batch_var_1 = tf.nn.moments(layer_1,[0])\r\n",
        "    scale_1 = tf.Variable(tf.ones([n_hidden_1]))\r\n",
        "    beta_1 = tf.Variable(tf.zeros([n_hidden_1]))\r\n",
        "\r\n",
        "    layer_1 = tf.nn.batch_normalization(layer_1, batch_mean_1, batch_var_1, beta_1, scale_1, epsilon)\r\n",
        "    layer_1 = tf.nn.sigmoid(layer_1)\r\n",
        "    \r\n",
        "    print( 'layer_1:', layer_1.get_shape(), 'W[h2]:', weights['h2'].get_shape(), 'b[h2]:', biases['b2'].get_shape())        \r\n",
        "    \r\n",
        "    layer_2 = tf.add(tf.matmul(layer_1, weights['h2']), biases['b2']) # (layer_1 * weights['h2']) + biases['b2'] \r\n",
        "    \r\n",
        "    batch_mean_2, batch_var_2 = tf.nn.moments(layer_2, [0])\r\n",
        "    scale_2 = tf.Variable(tf.ones([n_hidden_2]))\r\n",
        "    beta_2 = tf.Variable(tf.zeros([n_hidden_2]))\r\n",
        "    \r\n",
        "    layer_2 = tf.nn.batch_normalization(layer_2, batch_mean_2, batch_var_2, beta_2, scale_2, epsilon)\r\n",
        "    layer_2 = tf.nn.sigmoid(layer_2)\r\n",
        "    print( 'layer_2:', layer_2.get_shape(), 'W[out]:', weights['out'].get_shape(), 'b3:', biases['out'].get_shape())        \r\n",
        "    \r\n",
        "    out_layer = tf.matmul(layer_2, weights['out']) + biases['out'] # (layer_2 * weights['out']) + biases['out']    \r\n",
        "    out_layer = tf.nn.sigmoid(out_layer)\r\n",
        "    print('out_layer:',out_layer.get_shape())\r\n",
        "\r\n",
        "    return out_layer"
      ],
      "execution_count": null,
      "outputs": []
    },
    {
      "cell_type": "code",
      "metadata": {
        "id": "Xr8sgcrqlKuO"
      },
      "source": [
        "#Adam Optimizer  -- Model3\r\n",
        "\r\n",
        "ybatch = multilayer_perceptron_batch(x, weights_sgd, biases)\r\n",
        "\r\n",
        "cost_batch = tf.reduce_mean(tf.nn.softmax_cross_entropy_with_logits(logits = ybatch, labels = y_))\r\n",
        "optimizer_batch_adam = tf.train.AdamOptimizer(learning_rate=learning_rate).minimize(cost_batch)\r\n",
        "optimizer_batch_sgdc = tf.train.GradientDescentOptimizer(learning_rate=learning_rate).minimize(cost_batch)\r\n",
        "with tf.Session() as sess:\r\n",
        "    tf.global_variables_initializer().run()\r\n",
        "    fig,ax = plt.subplots(1,1)\r\n",
        "    ax.set_xlabel('epoch') ; ax.set_ylabel('Soft Max Cross Entropy loss')\r\n",
        "    xs, ytrs, ytes = [], [], []\r\n",
        "    for epoch in range(training_epochs):\r\n",
        "        train_avg_cost = 0.\r\n",
        "        test_avg_cost = 0.\r\n",
        "        total_batch = int(mnist.train.num_examples/batch_size)\r\n",
        "\r\n",
        "        # Loop over all batches\r\n",
        "        for i in range(total_batch):\r\n",
        "            batch_xs, batch_ys = mnist.train.next_batch(batch_size)\r\n",
        "\r\n",
        "            # here we use AdamOptimizer\r\n",
        "            _, c, w = sess.run([optimizer_batch_adam, cost_batch, weights_sgd], feed_dict={x: batch_xs, y_: batch_ys})\r\n",
        "            train_avg_cost += c / total_batch\r\n",
        "            c = sess.run(cost_batch, feed_dict={x: mnist.test.images, y_: mnist.test.labels})\r\n",
        "            test_avg_cost += c / total_batch\r\n",
        "\r\n",
        "        xs.append(epoch)\r\n",
        "        ytrs.append(train_avg_cost)\r\n",
        "        ytes.append(test_avg_cost)\r\n",
        "        plt_dynamic(xs, ytrs, ytes, ax, np.arange(1.3, 1.8, step=0.04), \"input-Sigmoid(BN(512))-Sigmoid(BN(128))-Sigmoid(output)-AdamOptimizer\")\r\n",
        "\r\n",
        "        if epoch%display_step == 0:\r\n",
        "            print(\"Epoch:\", '%04d' % (epoch+1), \"train cost={:.9f}\".format(train_avg_cost), \"test cost={:.9f}\".format(test_avg_cost))\r\n",
        "\r\n",
        "    # plot final results\r\n",
        "    plt_dynamic(xs, ytrs, ytes, ax, np.arange(1.3, 1.8, step=0.04), \"input-Sigmoid(BN(512))-Sigmoid(BN(128))-Sigmoid(output)-AdamOptimizer\")\r\n",
        "\r\n",
        "    # we are calculating the final accuracy on the test data\r\n",
        "    correct_prediction = tf.equal(tf.argmax(ybatch,1), tf.argmax(y_,1))\r\n",
        "    accuracy = tf.reduce_mean(tf.cast(correct_prediction, tf.float32))\r\n",
        "    print(\"Accuracy:\", accuracy.eval({x: mnist.test.images, y_: mnist.test.labels}))"
      ],
      "execution_count": null,
      "outputs": []
    },
    {
      "cell_type": "code",
      "metadata": {
        "id": "sC_l7nyfl6Ej"
      },
      "source": [
        "# Plot weight distribution at the end of training.\r\n",
        "\r\n",
        "import seaborn as sns\r\n",
        "h1_w = w['h1'].flatten().reshape(-1,1)\r\n",
        "h2_w = w['h2'].flatten().reshape(-1,1)\r\n",
        "out_w = w['out'].flatten().reshape(-1,1)\r\n",
        "\r\n",
        "\r\n",
        "fig = plt.figure()\r\n",
        "plt.subplot(1, 3, 1)\r\n",
        "plt.title(\"Weight matrix\")\r\n",
        "ax = sns.violinplot(y=h1_w,color='b')\r\n",
        "plt.xlabel('Hidden Layer 1')\r\n",
        "\r\n",
        "plt.subplot(1, 3, 2)\r\n",
        "plt.title(\"Weight matrix \")\r\n",
        "ax = sns.violinplot(y=h2_w, color='r')\r\n",
        "plt.xlabel('Hidden Layer 2 ')\r\n",
        "\r\n",
        "plt.subplot(1, 3, 3)\r\n",
        "plt.title(\"Weight matrix \")\r\n",
        "ax = sns.violinplot(y=out_w,color='y')\r\n",
        "plt.xlabel('Output Layer ')\r\n",
        "plt.show()"
      ],
      "execution_count": null,
      "outputs": []
    },
    {
      "cell_type": "code",
      "metadata": {
        "id": "93NLtZNFl5ZI"
      },
      "source": [
        "#GradientDescentOptimizer --Model 3\r\n",
        "with tf.Session() as sess:\r\n",
        "    tf.global_variables_initializer().run()\r\n",
        "    fig,ax = plt.subplots(1,1)\r\n",
        "    ax.set_xlabel('epoch') ; ax.set_ylabel('Soft Max Cross Entropy loss')\r\n",
        "    xs, ytrs, ytes = [], [], []\r\n",
        "    for epoch in range(training_epochs):\r\n",
        "        train_avg_cost = 0.\r\n",
        "        test_avg_cost = 0.\r\n",
        "        total_batch = int(mnist.train.num_examples/batch_size)\r\n",
        "\r\n",
        "        # Loop over all batches\r\n",
        "        for i in range(total_batch):\r\n",
        "            batch_xs, batch_ys = mnist.train.next_batch(batch_size)\r\n",
        "\r\n",
        "            # here we use GradientDescentOptimizer\r\n",
        "            _, c, w = sess.run([optimizer_batch_sgdc, cost_batch, weights_sgd], feed_dict={x: batch_xs, y_: batch_ys})\r\n",
        "            train_avg_cost += c / total_batch\r\n",
        "            c = sess.run(cost_batch, feed_dict={x: mnist.test.images, y_: mnist.test.labels})\r\n",
        "            test_avg_cost += c / total_batch\r\n",
        "\r\n",
        "        xs.append(epoch)\r\n",
        "        ytrs.append(train_avg_cost)\r\n",
        "        ytes.append(test_avg_cost)\r\n",
        "        plt_dynamic(xs, ytrs, ytes, ax,np.arange(1.5, 2.4, step=0.05), \"input-Sigmoid(BN(512))-Sigmoid(BN(128))-Sigmoid(output)-GradientDescentOptimizer\")\r\n",
        "\r\n",
        "        if epoch%display_step == 0:\r\n",
        "            print(\"Epoch:\", '%04d' % (epoch+1), \"train cost={:.9f}\".format(train_avg_cost), \"test cost={:.9f}\".format(test_avg_cost))\r\n",
        "\r\n",
        "    # plot final results\r\n",
        "    plt_dynamic(xs, ytrs, ytes, ax, np.arange(1.5, 2.4, step=0.05), \"input-Sigmoid(BN(512))-Sigmoid(BN(128))-Sigmoid(output)-GradientDescentOptimizer\")\r\n",
        "\r\n",
        "    # we are calculating the final accuracy on the test data\r\n",
        "    correct_prediction = tf.equal(tf.argmax(ybatch,1), tf.argmax(y_,1))\r\n",
        "    accuracy = tf.reduce_mean(tf.cast(correct_prediction, tf.float32))\r\n",
        "    print(\"Accuracy:\", accuracy.eval({x: mnist.test.images, y_: mnist.test.labels}))"
      ],
      "execution_count": null,
      "outputs": []
    },
    {
      "cell_type": "code",
      "metadata": {
        "id": "QhFumlrsl81y"
      },
      "source": [
        "# Plot weight distribution at the end of training.\r\n",
        "\r\n",
        "import seaborn as sns\r\n",
        "h1_w = w['h1'].flatten().reshape(-1,1)\r\n",
        "h2_w = w['h2'].flatten().reshape(-1,1)\r\n",
        "out_w = w['out'].flatten().reshape(-1,1)\r\n",
        "\r\n",
        "\r\n",
        "fig = plt.figure()\r\n",
        "plt.subplot(1, 3, 1)\r\n",
        "plt.title(\"Weight matrix\")\r\n",
        "ax = sns.violinplot(y=h1_w,color='b')\r\n",
        "plt.xlabel('Hidden Layer 1')\r\n",
        "\r\n",
        "plt.subplot(1, 3, 2)\r\n",
        "plt.title(\"Weight matrix \")\r\n",
        "ax = sns.violinplot(y=h2_w, color='r')\r\n",
        "plt.xlabel('Hidden Layer 2 ')\r\n",
        "\r\n",
        "plt.subplot(1, 3, 3)\r\n",
        "plt.title(\"Weight matrix \")\r\n",
        "ax = sns.violinplot(y=out_w,color='y')\r\n",
        "plt.xlabel('Output Layer ')\r\n",
        "plt.show()"
      ],
      "execution_count": null,
      "outputs": []
    },
    {
      "cell_type": "markdown",
      "metadata": {
        "id": "HkJGt7bx7_JE"
      },
      "source": [
        "Model 4:(DropOut): input-ReLu(512)-Dropout-ReLu(128)-Dropout-Sigmoid(output)"
      ]
    },
    {
      "cell_type": "code",
      "metadata": {
        "id": "OGE83YTWmnC9"
      },
      "source": [
        "def multilayer_perceptron_dropout(x, weights, biases):\r\n",
        "    print( 'x:', x.get_shape(), 'W[h1]:', weights['h1'].get_shape(), 'b[h1]:', biases['b1'].get_shape())        \r\n",
        "    \r\n",
        "    layer_1 = tf.add(tf.matmul(x, weights['h1']), biases['b1']) #(x*weights['h1']) + biases['b1']\r\n",
        "    layer_1 = tf.nn.relu(layer_1)\r\n",
        "    # we are adding a drop out layer after the first hidden layer with parameter keep_prob\r\n",
        "    layer_1_drop = tf.nn.dropout(layer_1, keep_prob)\r\n",
        "    \r\n",
        "    print( 'layer_1:', layer_1.get_shape(), 'W[h2]:', weights['h2'].get_shape(), 'b[h2]:', biases['b2'].get_shape())        \r\n",
        "    \r\n",
        "    layer_2 = tf.add(tf.matmul(layer_1_drop, weights['h2']), biases['b2']) # (layer_1 * weights['h2']) + biases['b2'] \r\n",
        "    layer_2 = tf.nn.relu(layer_2)\r\n",
        "    # we are adding a drop out layer after the first hidden layer with parameter keep_prob\r\n",
        "    layer_2_drop = tf.nn.dropout(layer_2, keep_prob)\r\n",
        "    print( 'layer_2:', layer_2.get_shape(), 'W[out]:', weights['out'].get_shape(), 'b3:', biases['out'].get_shape())        \r\n",
        "    \r\n",
        "    out_layer = tf.matmul(layer_2_drop, weights['out']) + biases['out'] # (layer_2 * weights['out']) + biases['out']    \r\n",
        "    out_layer = tf.nn.sigmoid(out_layer)\r\n",
        "    print('out_layer:',out_layer.get_shape())\r\n",
        "\r\n",
        "    return out_layer"
      ],
      "execution_count": null,
      "outputs": []
    },
    {
      "cell_type": "code",
      "metadata": {
        "id": "VwbbOy1j9ASc"
      },
      "source": [
        "#Adam Optimizer -- Model 4\r\n",
        "ydrop = multilayer_perceptron_dropout(x, weights_relu, biases)\r\n",
        "\r\n",
        "cost_drop = tf.reduce_mean(tf.nn.softmax_cross_entropy_with_logits(logits = ydrop, labels = y_))\r\n",
        "\r\n",
        "optimizer_drop_adam = tf.train.AdamOptimizer(learning_rate=learning_rate).minimize(cost_drop)\r\n",
        "optimizer_drop_sgdc = tf.train.GradientDescentOptimizer(learning_rate=learning_rate).minimize(cost_drop)\r\n",
        "\r\n",
        "with tf.Session() as sess:\r\n",
        "    tf.global_variables_initializer().run()\r\n",
        "    fig,ax = plt.subplots(1,1)\r\n",
        "    ax.set_xlabel('epoch') ; ax.set_ylabel('Soft Max Cross Entropy loss')\r\n",
        "    xs, ytrs, ytes = [], [], []\r\n",
        "    for epoch in range(training_epochs):\r\n",
        "        train_avg_cost = 0.\r\n",
        "        test_avg_cost = 0.\r\n",
        "        total_batch = int(mnist.train.num_examples/batch_size)\r\n",
        "\r\n",
        "        # Loop over all batches\r\n",
        "        for i in range(total_batch):\r\n",
        "            batch_xs, batch_ys = mnist.train.next_batch(batch_size)\r\n",
        "            \r\n",
        "            # here we use AdamOptimizer\r\n",
        "            _, c, w = sess.run([optimizer_drop_adam, cost_drop, weights_relu], feed_dict={x: batch_xs, y_: batch_ys, keep_prob: 0.5})\r\n",
        "            train_avg_cost += c / total_batch\r\n",
        "            c = sess.run(cost_drop, feed_dict={x: mnist.test.images, y_: mnist.test.labels,  keep_prob: 1.0})\r\n",
        "            test_avg_cost += c / total_batch\r\n",
        "\r\n",
        "        xs.append(epoch)\r\n",
        "        ytrs.append(train_avg_cost)\r\n",
        "        ytes.append(test_avg_cost)\r\n",
        "        plt_dynamic(xs, ytrs, ytes, ax,np.arange(1, 1.8, step=0.05), \"input-ReLu(512)-Dropout-ReLu(128)-Dropout-Sigmoid(output)-AdamOptimizer\")\r\n",
        "\r\n",
        "        if epoch%display_step == 0:\r\n",
        "            print(\"Epoch:\", '%04d' % (epoch+1), \"train cost={:.9f}\".format(train_avg_cost), \"test cost={:.9f}\".format(test_avg_cost))\r\n",
        "\r\n",
        "    # plot final results\r\n",
        "    plt_dynamic(xs, ytrs, ytes, ax,np.arange(1, 1.8, step=0.05), \"input-ReLu(512)-Dropout-ReLu(128)-Dropout-Sigmoid(output)-AdamOptimizer\")\r\n",
        "\r\n",
        "    # we are calculating the final accuracy on the test data\r\n",
        "    correct_prediction = tf.equal(tf.argmax(ydrop,1), tf.argmax(y_,1))\r\n",
        "    accuracy = tf.reduce_mean(tf.cast(correct_prediction, tf.float32))\r\n",
        "    print(\"Accuracy:\", accuracy.eval({x: mnist.test.images, y_: mnist.test.labels, keep_prob: 1.0 }))"
      ],
      "execution_count": null,
      "outputs": []
    },
    {
      "cell_type": "code",
      "metadata": {
        "id": "ky0w0EIw9da8"
      },
      "source": [
        "# Plot weight distribution at the end of training.\r\n",
        "\r\n",
        "import seaborn as sns\r\n",
        "h1_w = w['h1'].flatten().reshape(-1,1)\r\n",
        "h2_w = w['h2'].flatten().reshape(-1,1)\r\n",
        "out_w = w['out'].flatten().reshape(-1,1)\r\n",
        "\r\n",
        "\r\n",
        "fig = plt.figure()\r\n",
        "plt.subplot(1, 3, 1)\r\n",
        "plt.title(\"Weight matrix\")\r\n",
        "ax = sns.violinplot(y=h1_w,color='b')\r\n",
        "plt.xlabel('Hidden Layer 1')\r\n",
        "\r\n",
        "plt.subplot(1, 3, 2)\r\n",
        "plt.title(\"Weight matrix \")\r\n",
        "ax = sns.violinplot(y=h2_w, color='r')\r\n",
        "plt.xlabel('Hidden Layer 2 ')\r\n",
        "\r\n",
        "plt.subplot(1, 3, 3)\r\n",
        "plt.title(\"Weight matrix \")\r\n",
        "ax = sns.violinplot(y=out_w,color='y')\r\n",
        "plt.xlabel('Output Layer ')\r\n",
        "plt.show()"
      ],
      "execution_count": null,
      "outputs": []
    },
    {
      "cell_type": "code",
      "metadata": {
        "id": "82-9fqH89fp0"
      },
      "source": [
        "#GradientDescentOptimizer  --  Model 4\r\n",
        "with tf.Session() as sess:\r\n",
        "    tf.global_variables_initializer().run()\r\n",
        "    fig,ax = plt.subplots(1,1)\r\n",
        "    ax.set_xlabel('epoch') ; ax.set_ylabel('Soft Max Cross Entropy loss')\r\n",
        "    xs, ytrs, ytes = [], [], []\r\n",
        "    for epoch in range(training_epochs):\r\n",
        "        train_avg_cost = 0.\r\n",
        "        test_avg_cost = 0.\r\n",
        "        total_batch = int(mnist.train.num_examples/batch_size)\r\n",
        "\r\n",
        "        # Loop over all batches\r\n",
        "        for i in range(total_batch):\r\n",
        "            batch_xs, batch_ys = mnist.train.next_batch(batch_size)\r\n",
        "            \r\n",
        "            # here we use AdamOptimizer\r\n",
        "            _, c, w = sess.run([optimizer_drop_sgdc, cost_drop, weights_relu], feed_dict={x: batch_xs, y_: batch_ys, keep_prob: 0.5})\r\n",
        "            train_avg_cost += c / total_batch\r\n",
        "            c = sess.run(cost_drop, feed_dict={x: mnist.test.images, y_: mnist.test.labels,  keep_prob: 1.0})\r\n",
        "            test_avg_cost += c / total_batch\r\n",
        "\r\n",
        "        xs.append(epoch)\r\n",
        "        ytrs.append(train_avg_cost)\r\n",
        "        ytes.append(test_avg_cost)\r\n",
        "        plt_dynamic(xs, ytrs, ytes, ax,np.arange(1, 1.8, step=0.05), \"input-ReLu(512)-Dropout-ReLu(128)-Dropout-Sigmoid(output)-GradientDescentOptimizer\")\r\n",
        "\r\n",
        "        if epoch%display_step == 0:\r\n",
        "            print(\"Epoch:\", '%04d' % (epoch+1), \"train cost={:.9f}\".format(train_avg_cost), \"test cost={:.9f}\".format(test_avg_cost))\r\n",
        "\r\n",
        "    # plot final results\r\n",
        "    plt_dynamic(xs, ytrs, ytes, ax,np.arange(1, 1.8, step=0.05), \"input-ReLu(512)-Dropout-ReLu(128)-Dropout-Sigmoid(output)-GradientDescentOptimizer\")\r\n",
        "\r\n",
        "    # we are calculating the final accuracy on the test data\r\n",
        "    correct_prediction = tf.equal(tf.argmax(ydrop,1), tf.argmax(y_,1))\r\n",
        "    accuracy = tf.reduce_mean(tf.cast(correct_prediction, tf.float32))\r\n",
        "    print(\"Accuracy:\", accuracy.eval({x: mnist.test.images, y_: mnist.test.labels, keep_prob: 1.0 }))"
      ],
      "execution_count": null,
      "outputs": []
    },
    {
      "cell_type": "code",
      "metadata": {
        "id": "p0gedpeg9f-L"
      },
      "source": [
        "# Plot weight distribution at the end of training.\r\n",
        "\r\n",
        "import seaborn as sns\r\n",
        "h1_w = w['h1'].flatten().reshape(-1,1)\r\n",
        "h2_w = w['h2'].flatten().reshape(-1,1)\r\n",
        "out_w = w['out'].flatten().reshape(-1,1)\r\n",
        "\r\n",
        "\r\n",
        "fig = plt.figure()\r\n",
        "plt.subplot(1, 3, 1)\r\n",
        "plt.title(\"Weight matrix\")\r\n",
        "ax = sns.violinplot(y=h1_w,color='b')\r\n",
        "plt.xlabel('Hidden Layer 1')\r\n",
        "\r\n",
        "plt.subplot(1, 3, 2)\r\n",
        "plt.title(\"Weight matrix \")\r\n",
        "ax = sns.violinplot(y=h2_w, color='r')\r\n",
        "plt.xlabel('Hidden Layer 2 ')\r\n",
        "\r\n",
        "plt.subplot(1, 3, 3)\r\n",
        "plt.title(\"Weight matrix \")\r\n",
        "ax = sns.violinplot(y=out_w,color='y')\r\n",
        "plt.xlabel('Output Layer ')\r\n",
        "plt.show()"
      ],
      "execution_count": null,
      "outputs": []
    }
  ]
}