{
  "nbformat": 4,
  "nbformat_minor": 0,
  "metadata": {
    "colab": {
      "name": "Mnist_Keras_Models.ipynb",
      "provenance": [],
      "collapsed_sections": []
    },
    "kernelspec": {
      "name": "python3",
      "display_name": "Python 3"
    }
  },
  "cells": [
    {
      "cell_type": "code",
      "metadata": {
        "id": "i1edAwew68JO"
      },
      "source": [
        "import numpy as np\r\n",
        "import tensorflow as tf\r\n",
        "from tensorflow.keras import utils\r\n",
        "from tensorflow.keras.datasets import mnist\r\n",
        "import seaborn as sns\r\n",
        "from tensorflow.keras.initializers import RandomNormal\r\n",
        "import time\r\n",
        "import matplotlib.pyplot as plt "
      ],
      "execution_count": 20,
      "outputs": []
    },
    {
      "cell_type": "code",
      "metadata": {
        "id": "PJAVwVIR8jaY"
      },
      "source": [
        "#Function for plots for each epoch and error\r\n",
        "def plt_dynamic(x, vy, ty, ax, colors= ['b'] ):\r\n",
        "    ax.plot(x, vy, 'b', label = \"Validation Loss\")\r\n",
        "    ax.plot(x, ty, 'r', label = \"Train Loss\")\r\n",
        "    plt.legend()\r\n",
        "    plt.grid()\r\n",
        "    fig.canvas.draw() "
      ],
      "execution_count": 21,
      "outputs": []
    },
    {
      "cell_type": "code",
      "metadata": {
        "id": "ruriEzAs9Uy3"
      },
      "source": [
        "(X_train, y_train),(X_test , y_test) = mnist.load_data()"
      ],
      "execution_count": 22,
      "outputs": []
    },
    {
      "cell_type": "code",
      "metadata": {
        "colab": {
          "base_uri": "https://localhost:8080/"
        },
        "id": "8FM1W-uT9ian",
        "outputId": "b6ff2ac6-0ba4-4f5c-d96f-465079593dff"
      },
      "source": [
        "print(\"Number of training examples :\", X_train.shape[0], \"and each image is of shape (%d, %d)\"%(X_train.shape[1], X_train.shape[2]))\r\n",
        "print(\"Number of training examples :\", X_test.shape[0], \"and each image is of shape (%d, %d)\"%(X_test.shape[1], X_test.shape[2]))"
      ],
      "execution_count": 23,
      "outputs": [
        {
          "output_type": "stream",
          "text": [
            "Number of training examples : 60000 and each image is of shape (28, 28)\n",
            "Number of training examples : 10000 and each image is of shape (28, 28)\n"
          ],
          "name": "stdout"
        }
      ]
    },
    {
      "cell_type": "code",
      "metadata": {
        "id": "II2KxpGgFN9X"
      },
      "source": [
        "\r\n",
        "X_train = X_train.reshape(X_train.shape[0], X_train.shape[1]*X_train.shape[2]) \r\n",
        "X_test = X_test.reshape(X_test.shape[0], X_test.shape[1]*X_test.shape[2]) "
      ],
      "execution_count": 24,
      "outputs": []
    },
    {
      "cell_type": "code",
      "metadata": {
        "colab": {
          "base_uri": "https://localhost:8080/"
        },
        "id": "8ngtkHwVFQDZ",
        "outputId": "b0cbd328-c5a6-4e57-d0f8-2b452372dd82"
      },
      "source": [
        "\r\n",
        "print(\"Number of training examples :\", X_train.shape[0], \"and each image is of shape (%d)\"%(X_train.shape[1]))\r\n",
        "print(\"Number of training examples :\", X_test.shape[0], \"and each image is of shape (%d)\"%(X_test.shape[1]))"
      ],
      "execution_count": 25,
      "outputs": [
        {
          "output_type": "stream",
          "text": [
            "Number of training examples : 60000 and each image is of shape (784)\n",
            "Number of training examples : 10000 and each image is of shape (784)\n"
          ],
          "name": "stdout"
        }
      ]
    },
    {
      "cell_type": "code",
      "metadata": {
        "colab": {
          "base_uri": "https://localhost:8080/"
        },
        "id": "IYoEU8IC93ih",
        "outputId": "0b1a3946-15d7-42a5-c8e7-96de7ec007b3"
      },
      "source": [
        "print(X_train[3])"
      ],
      "execution_count": 26,
      "outputs": [
        {
          "output_type": "stream",
          "text": [
            "[  0   0   0   0   0   0   0   0   0   0   0   0   0   0   0   0   0   0\n",
            "   0   0   0   0   0   0   0   0   0   0   0   0   0   0   0   0   0   0\n",
            "   0   0   0   0   0   0   0   0   0   0   0   0   0   0   0   0   0   0\n",
            "   0   0   0   0   0   0   0   0   0   0   0   0   0   0   0   0   0   0\n",
            "   0   0   0   0   0   0   0   0   0   0   0   0   0   0   0   0   0   0\n",
            "   0   0   0   0   0   0   0   0   0   0   0   0   0   0   0   0   0   0\n",
            "   0   0   0   0   0   0   0   0   0   0   0   0   0   0   0   0   0   0\n",
            "   0   0   0   0   0   0   0   0   0   0   0   0   0   0   0   0   0   0\n",
            "   0   0   0   0   0   0   0   0   0   0   0   0   0   0 124 253 255  63\n",
            "   0   0   0   0   0   0   0   0   0   0   0   0   0   0   0   0   0   0\n",
            "   0   0   0   0   0  96 244 251 253  62   0   0   0   0   0   0   0   0\n",
            "   0   0   0   0   0   0   0   0   0   0   0   0   0   0   0 127 251 251\n",
            " 253  62   0   0   0   0   0   0   0   0   0   0   0   0   0   0   0   0\n",
            "   0   0   0   0   0   0  68 236 251 211  31   8   0   0   0   0   0   0\n",
            "   0   0   0   0   0   0   0   0   0   0   0   0   0   0   0  60 228 251\n",
            " 251  94   0   0   0   0   0   0   0   0   0   0   0   0   0   0   0   0\n",
            "   0   0   0   0   0   0   0 155 253 253 189   0   0   0   0   0   0   0\n",
            "   0   0   0   0   0   0   0   0   0   0   0   0   0   0   0   0  20 253\n",
            " 251 235  66   0   0   0   0   0   0   0   0   0   0   0   0   0   0   0\n",
            "   0   0   0   0   0   0   0  32 205 253 251 126   0   0   0   0   0   0\n",
            "   0   0   0   0   0   0   0   0   0   0   0   0   0   0   0   0   0 104\n",
            " 251 253 184  15   0   0   0   0   0   0   0   0   0   0   0   0   0   0\n",
            "   0   0   0   0   0   0   0   0  80 240 251 193  23   0   0   0   0   0\n",
            "   0   0   0   0   0   0   0   0   0   0   0   0   0   0   0   0   0  32\n",
            " 253 253 253 159   0   0   0   0   0   0   0   0   0   0   0   0   0   0\n",
            "   0   0   0   0   0   0   0   0   0 151 251 251 251  39   0   0   0   0\n",
            "   0   0   0   0   0   0   0   0   0   0   0   0   0   0   0   0   0   0\n",
            "  48 221 251 251 172   0   0   0   0   0   0   0   0   0   0   0   0   0\n",
            "   0   0   0   0   0   0   0   0   0   0 234 251 251 196  12   0   0   0\n",
            "   0   0   0   0   0   0   0   0   0   0   0   0   0   0   0   0   0   0\n",
            "   0   0 253 251 251  89   0   0   0   0   0   0   0   0   0   0   0   0\n",
            "   0   0   0   0   0   0   0   0   0   0   0 159 255 253 253  31   0   0\n",
            "   0   0   0   0   0   0   0   0   0   0   0   0   0   0   0   0   0   0\n",
            "   0   0  48 228 253 247 140   8   0   0   0   0   0   0   0   0   0   0\n",
            "   0   0   0   0   0   0   0   0   0   0   0   0  64 251 253 220   0   0\n",
            "   0   0   0   0   0   0   0   0   0   0   0   0   0   0   0   0   0   0\n",
            "   0   0   0   0  64 251 253 220   0   0   0   0   0   0   0   0   0   0\n",
            "   0   0   0   0   0   0   0   0   0   0   0   0   0   0  24 193 253 220\n",
            "   0   0   0   0   0   0   0   0   0   0   0   0   0   0   0   0   0   0\n",
            "   0   0   0   0   0   0   0   0   0   0   0   0   0   0   0   0   0   0\n",
            "   0   0   0   0   0   0   0   0   0   0   0   0   0   0   0   0   0   0\n",
            "   0   0   0   0   0   0   0   0   0   0   0   0   0   0   0   0   0   0\n",
            "   0   0   0   0   0   0   0   0   0   0   0   0   0   0   0   0   0   0\n",
            "   0   0   0   0   0   0   0   0   0   0]\n"
          ],
          "name": "stdout"
        }
      ]
    },
    {
      "cell_type": "code",
      "metadata": {
        "id": "h8Sql12O-VXZ"
      },
      "source": [
        "#As data is not normalized , let's normalize the data first\r\n",
        "X_train = X_train/255\r\n",
        "X_test = X_test/255"
      ],
      "execution_count": 27,
      "outputs": []
    },
    {
      "cell_type": "code",
      "metadata": {
        "colab": {
          "base_uri": "https://localhost:8080/"
        },
        "id": "p6MkFaIk-l7u",
        "outputId": "b1f944c7-5e8f-4904-c9c5-d337d75e3873"
      },
      "source": [
        "print(X_train[3])"
      ],
      "execution_count": 28,
      "outputs": [
        {
          "output_type": "stream",
          "text": [
            "[0.         0.         0.         0.         0.         0.\n",
            " 0.         0.         0.         0.         0.         0.\n",
            " 0.         0.         0.         0.         0.         0.\n",
            " 0.         0.         0.         0.         0.         0.\n",
            " 0.         0.         0.         0.         0.         0.\n",
            " 0.         0.         0.         0.         0.         0.\n",
            " 0.         0.         0.         0.         0.         0.\n",
            " 0.         0.         0.         0.         0.         0.\n",
            " 0.         0.         0.         0.         0.         0.\n",
            " 0.         0.         0.         0.         0.         0.\n",
            " 0.         0.         0.         0.         0.         0.\n",
            " 0.         0.         0.         0.         0.         0.\n",
            " 0.         0.         0.         0.         0.         0.\n",
            " 0.         0.         0.         0.         0.         0.\n",
            " 0.         0.         0.         0.         0.         0.\n",
            " 0.         0.         0.         0.         0.         0.\n",
            " 0.         0.         0.         0.         0.         0.\n",
            " 0.         0.         0.         0.         0.         0.\n",
            " 0.         0.         0.         0.         0.         0.\n",
            " 0.         0.         0.         0.         0.         0.\n",
            " 0.         0.         0.         0.         0.         0.\n",
            " 0.         0.         0.         0.         0.         0.\n",
            " 0.         0.         0.         0.         0.         0.\n",
            " 0.         0.         0.         0.         0.         0.\n",
            " 0.         0.         0.         0.         0.         0.\n",
            " 0.         0.         0.         0.         0.         0.\n",
            " 0.         0.         0.48627451 0.99215686 1.         0.24705882\n",
            " 0.         0.         0.         0.         0.         0.\n",
            " 0.         0.         0.         0.         0.         0.\n",
            " 0.         0.         0.         0.         0.         0.\n",
            " 0.         0.         0.         0.         0.         0.37647059\n",
            " 0.95686275 0.98431373 0.99215686 0.24313725 0.         0.\n",
            " 0.         0.         0.         0.         0.         0.\n",
            " 0.         0.         0.         0.         0.         0.\n",
            " 0.         0.         0.         0.         0.         0.\n",
            " 0.         0.         0.         0.49803922 0.98431373 0.98431373\n",
            " 0.99215686 0.24313725 0.         0.         0.         0.\n",
            " 0.         0.         0.         0.         0.         0.\n",
            " 0.         0.         0.         0.         0.         0.\n",
            " 0.         0.         0.         0.         0.         0.\n",
            " 0.26666667 0.9254902  0.98431373 0.82745098 0.12156863 0.03137255\n",
            " 0.         0.         0.         0.         0.         0.\n",
            " 0.         0.         0.         0.         0.         0.\n",
            " 0.         0.         0.         0.         0.         0.\n",
            " 0.         0.         0.         0.23529412 0.89411765 0.98431373\n",
            " 0.98431373 0.36862745 0.         0.         0.         0.\n",
            " 0.         0.         0.         0.         0.         0.\n",
            " 0.         0.         0.         0.         0.         0.\n",
            " 0.         0.         0.         0.         0.         0.\n",
            " 0.         0.60784314 0.99215686 0.99215686 0.74117647 0.\n",
            " 0.         0.         0.         0.         0.         0.\n",
            " 0.         0.         0.         0.         0.         0.\n",
            " 0.         0.         0.         0.         0.         0.\n",
            " 0.         0.         0.         0.         0.07843137 0.99215686\n",
            " 0.98431373 0.92156863 0.25882353 0.         0.         0.\n",
            " 0.         0.         0.         0.         0.         0.\n",
            " 0.         0.         0.         0.         0.         0.\n",
            " 0.         0.         0.         0.         0.         0.\n",
            " 0.         0.1254902  0.80392157 0.99215686 0.98431373 0.49411765\n",
            " 0.         0.         0.         0.         0.         0.\n",
            " 0.         0.         0.         0.         0.         0.\n",
            " 0.         0.         0.         0.         0.         0.\n",
            " 0.         0.         0.         0.         0.         0.40784314\n",
            " 0.98431373 0.99215686 0.72156863 0.05882353 0.         0.\n",
            " 0.         0.         0.         0.         0.         0.\n",
            " 0.         0.         0.         0.         0.         0.\n",
            " 0.         0.         0.         0.         0.         0.\n",
            " 0.         0.         0.31372549 0.94117647 0.98431373 0.75686275\n",
            " 0.09019608 0.         0.         0.         0.         0.\n",
            " 0.         0.         0.         0.         0.         0.\n",
            " 0.         0.         0.         0.         0.         0.\n",
            " 0.         0.         0.         0.         0.         0.1254902\n",
            " 0.99215686 0.99215686 0.99215686 0.62352941 0.         0.\n",
            " 0.         0.         0.         0.         0.         0.\n",
            " 0.         0.         0.         0.         0.         0.\n",
            " 0.         0.         0.         0.         0.         0.\n",
            " 0.         0.         0.         0.59215686 0.98431373 0.98431373\n",
            " 0.98431373 0.15294118 0.         0.         0.         0.\n",
            " 0.         0.         0.         0.         0.         0.\n",
            " 0.         0.         0.         0.         0.         0.\n",
            " 0.         0.         0.         0.         0.         0.\n",
            " 0.18823529 0.86666667 0.98431373 0.98431373 0.6745098  0.\n",
            " 0.         0.         0.         0.         0.         0.\n",
            " 0.         0.         0.         0.         0.         0.\n",
            " 0.         0.         0.         0.         0.         0.\n",
            " 0.         0.         0.         0.         0.91764706 0.98431373\n",
            " 0.98431373 0.76862745 0.04705882 0.         0.         0.\n",
            " 0.         0.         0.         0.         0.         0.\n",
            " 0.         0.         0.         0.         0.         0.\n",
            " 0.         0.         0.         0.         0.         0.\n",
            " 0.         0.         0.99215686 0.98431373 0.98431373 0.34901961\n",
            " 0.         0.         0.         0.         0.         0.\n",
            " 0.         0.         0.         0.         0.         0.\n",
            " 0.         0.         0.         0.         0.         0.\n",
            " 0.         0.         0.         0.         0.         0.62352941\n",
            " 1.         0.99215686 0.99215686 0.12156863 0.         0.\n",
            " 0.         0.         0.         0.         0.         0.\n",
            " 0.         0.         0.         0.         0.         0.\n",
            " 0.         0.         0.         0.         0.         0.\n",
            " 0.         0.         0.18823529 0.89411765 0.99215686 0.96862745\n",
            " 0.54901961 0.03137255 0.         0.         0.         0.\n",
            " 0.         0.         0.         0.         0.         0.\n",
            " 0.         0.         0.         0.         0.         0.\n",
            " 0.         0.         0.         0.         0.         0.\n",
            " 0.25098039 0.98431373 0.99215686 0.8627451  0.         0.\n",
            " 0.         0.         0.         0.         0.         0.\n",
            " 0.         0.         0.         0.         0.         0.\n",
            " 0.         0.         0.         0.         0.         0.\n",
            " 0.         0.         0.         0.         0.25098039 0.98431373\n",
            " 0.99215686 0.8627451  0.         0.         0.         0.\n",
            " 0.         0.         0.         0.         0.         0.\n",
            " 0.         0.         0.         0.         0.         0.\n",
            " 0.         0.         0.         0.         0.         0.\n",
            " 0.         0.         0.09411765 0.75686275 0.99215686 0.8627451\n",
            " 0.         0.         0.         0.         0.         0.\n",
            " 0.         0.         0.         0.         0.         0.\n",
            " 0.         0.         0.         0.         0.         0.\n",
            " 0.         0.         0.         0.         0.         0.\n",
            " 0.         0.         0.         0.         0.         0.\n",
            " 0.         0.         0.         0.         0.         0.\n",
            " 0.         0.         0.         0.         0.         0.\n",
            " 0.         0.         0.         0.         0.         0.\n",
            " 0.         0.         0.         0.         0.         0.\n",
            " 0.         0.         0.         0.         0.         0.\n",
            " 0.         0.         0.         0.         0.         0.\n",
            " 0.         0.         0.         0.         0.         0.\n",
            " 0.         0.         0.         0.         0.         0.\n",
            " 0.         0.         0.         0.         0.         0.\n",
            " 0.         0.         0.         0.         0.         0.\n",
            " 0.         0.         0.         0.         0.         0.\n",
            " 0.         0.         0.         0.        ]\n"
          ],
          "name": "stdout"
        }
      ]
    },
    {
      "cell_type": "code",
      "metadata": {
        "colab": {
          "base_uri": "https://localhost:8080/"
        },
        "id": "MGxTuVCI-rGt",
        "outputId": "5a758ad9-a598-4d38-965a-90a4539b8789"
      },
      "source": [
        "print(y_train[3])"
      ],
      "execution_count": 29,
      "outputs": [
        {
          "output_type": "stream",
          "text": [
            "1\n"
          ],
          "name": "stdout"
        }
      ]
    },
    {
      "cell_type": "code",
      "metadata": {
        "id": "WjSQxp59-3YT"
      },
      "source": [
        "#As the output is not categorical , let's make it categorical \r\n",
        "Y_train = utils.to_categorical(y_train, 10)\r\n",
        "Y_test = utils.to_categorical(y_test, 10)"
      ],
      "execution_count": 30,
      "outputs": []
    },
    {
      "cell_type": "code",
      "metadata": {
        "colab": {
          "base_uri": "https://localhost:8080/"
        },
        "id": "i9FdGnmG_MMb",
        "outputId": "274ef3a8-47f6-42e4-d5b9-b80fe3eb148c"
      },
      "source": [
        "print(Y_train[3])"
      ],
      "execution_count": 31,
      "outputs": [
        {
          "output_type": "stream",
          "text": [
            "[0. 1. 0. 0. 0. 0. 0. 0. 0. 0.]\n"
          ],
          "name": "stdout"
        }
      ]
    },
    {
      "cell_type": "code",
      "metadata": {
        "id": "Q5q--x1p_SHy"
      },
      "source": [
        "#Sequential : Linear stack of Layers\r\n",
        "#Dense : it will do y = activation(WT. X + b)\r\n",
        "#Activation : It is for activation function\r\n",
        "from tensorflow.keras.models import Sequential\r\n",
        "from tensorflow.keras.layers import Dense, Activation"
      ],
      "execution_count": 32,
      "outputs": []
    },
    {
      "cell_type": "code",
      "metadata": {
        "id": "vjCbybetBEP4"
      },
      "source": [
        "#Some model Parameters\r\n",
        "output_dim = 10\r\n",
        "input_dim = X_train.shape[1]\r\n",
        "batch_size = 128\r\n",
        "nb_epoch = 20"
      ],
      "execution_count": 33,
      "outputs": []
    },
    {
      "cell_type": "code",
      "metadata": {
        "id": "LTl3Q5w6Bj7_"
      },
      "source": [
        "model = Sequential()\r\n",
        "model.add(Dense(output_dim, input_dim= input_dim, activation='softmax'))"
      ],
      "execution_count": 34,
      "outputs": []
    },
    {
      "cell_type": "code",
      "metadata": {
        "colab": {
          "base_uri": "https://localhost:8080/"
        },
        "id": "Cs7lB0dvEq6Z",
        "outputId": "70573ccf-b429-4942-e199-7ed0465507db"
      },
      "source": [
        "print(input_dim)"
      ],
      "execution_count": 35,
      "outputs": [
        {
          "output_type": "stream",
          "text": [
            "784\n"
          ],
          "name": "stdout"
        }
      ]
    },
    {
      "cell_type": "code",
      "metadata": {
        "colab": {
          "base_uri": "https://localhost:8080/"
        },
        "id": "xxgKJ6vsCufD",
        "outputId": "63c765b8-c524-4647-98dc-4db391b699a1"
      },
      "source": [
        "model.compile(optimizer='sgd', loss='categorical_crossentropy', metrics=['accuracy'])\r\n",
        "\r\n",
        "history = model.fit(X_train, Y_train, batch_size=batch_size, epochs=nb_epoch, verbose=1, validation_data=(X_test, Y_test)) \r\n"
      ],
      "execution_count": 36,
      "outputs": [
        {
          "output_type": "stream",
          "text": [
            "Epoch 1/20\n",
            "469/469 [==============================] - 1s 2ms/step - loss: 1.2787 - accuracy: 0.6989 - val_loss: 0.8120 - val_accuracy: 0.8298\n",
            "Epoch 2/20\n",
            "469/469 [==============================] - 1s 2ms/step - loss: 0.7165 - accuracy: 0.8422 - val_loss: 0.6078 - val_accuracy: 0.8611\n",
            "Epoch 3/20\n",
            "469/469 [==============================] - 1s 2ms/step - loss: 0.5873 - accuracy: 0.8603 - val_loss: 0.5256 - val_accuracy: 0.8752\n",
            "Epoch 4/20\n",
            "469/469 [==============================] - 1s 2ms/step - loss: 0.5254 - accuracy: 0.8695 - val_loss: 0.4800 - val_accuracy: 0.8826\n",
            "Epoch 5/20\n",
            "469/469 [==============================] - 1s 2ms/step - loss: 0.4878 - accuracy: 0.8755 - val_loss: 0.4500 - val_accuracy: 0.8873\n",
            "Epoch 6/20\n",
            "469/469 [==============================] - 1s 2ms/step - loss: 0.4619 - accuracy: 0.8795 - val_loss: 0.4287 - val_accuracy: 0.8913\n",
            "Epoch 7/20\n",
            "469/469 [==============================] - 1s 2ms/step - loss: 0.4427 - accuracy: 0.8832 - val_loss: 0.4126 - val_accuracy: 0.8951\n",
            "Epoch 8/20\n",
            "469/469 [==============================] - 1s 2ms/step - loss: 0.4278 - accuracy: 0.8869 - val_loss: 0.3995 - val_accuracy: 0.8974\n",
            "Epoch 9/20\n",
            "469/469 [==============================] - 1s 2ms/step - loss: 0.4157 - accuracy: 0.8888 - val_loss: 0.3895 - val_accuracy: 0.8998\n",
            "Epoch 10/20\n",
            "469/469 [==============================] - 1s 2ms/step - loss: 0.4057 - accuracy: 0.8910 - val_loss: 0.3804 - val_accuracy: 0.9020\n",
            "Epoch 11/20\n",
            "469/469 [==============================] - 1s 2ms/step - loss: 0.3972 - accuracy: 0.8927 - val_loss: 0.3733 - val_accuracy: 0.9026\n",
            "Epoch 12/20\n",
            "469/469 [==============================] - 1s 2ms/step - loss: 0.3900 - accuracy: 0.8944 - val_loss: 0.3667 - val_accuracy: 0.9038\n",
            "Epoch 13/20\n",
            "469/469 [==============================] - 1s 2ms/step - loss: 0.3835 - accuracy: 0.8958 - val_loss: 0.3611 - val_accuracy: 0.9047\n",
            "Epoch 14/20\n",
            "469/469 [==============================] - 1s 2ms/step - loss: 0.3779 - accuracy: 0.8976 - val_loss: 0.3563 - val_accuracy: 0.9063\n",
            "Epoch 15/20\n",
            "469/469 [==============================] - 1s 2ms/step - loss: 0.3729 - accuracy: 0.8982 - val_loss: 0.3521 - val_accuracy: 0.9072\n",
            "Epoch 16/20\n",
            "469/469 [==============================] - 1s 2ms/step - loss: 0.3684 - accuracy: 0.8993 - val_loss: 0.3479 - val_accuracy: 0.9080\n",
            "Epoch 17/20\n",
            "469/469 [==============================] - 1s 2ms/step - loss: 0.3642 - accuracy: 0.9004 - val_loss: 0.3445 - val_accuracy: 0.9081\n",
            "Epoch 18/20\n",
            "469/469 [==============================] - 1s 2ms/step - loss: 0.3605 - accuracy: 0.9013 - val_loss: 0.3413 - val_accuracy: 0.9085\n",
            "Epoch 19/20\n",
            "469/469 [==============================] - 1s 2ms/step - loss: 0.3571 - accuracy: 0.9025 - val_loss: 0.3380 - val_accuracy: 0.9093\n",
            "Epoch 20/20\n",
            "469/469 [==============================] - 1s 2ms/step - loss: 0.3538 - accuracy: 0.9028 - val_loss: 0.3355 - val_accuracy: 0.9096\n"
          ],
          "name": "stdout"
        }
      ]
    },
    {
      "cell_type": "code",
      "metadata": {
        "colab": {
          "base_uri": "https://localhost:8080/"
        },
        "id": "mqrGZf8qC2Cq",
        "outputId": "c36ee7fb-03fc-4d10-cec0-9d38052593f4"
      },
      "source": [
        "score = model.evaluate(X_test, Y_test, verbose=0) \r\n",
        "print('Test score:', score[0]) \r\n",
        "print('Test accuracy:', score[1])"
      ],
      "execution_count": 37,
      "outputs": [
        {
          "output_type": "stream",
          "text": [
            "Test score: 0.3354513943195343\n",
            "Test accuracy: 0.909600019454956\n"
          ],
          "name": "stdout"
        }
      ]
    },
    {
      "cell_type": "code",
      "metadata": {
        "colab": {
          "base_uri": "https://localhost:8080/",
          "height": 279
        },
        "id": "6PbSaoaIC9hE",
        "outputId": "0713ea91-48a0-4e45-8095-857f9a0a3fd1"
      },
      "source": [
        "\r\n",
        "fig,ax = plt.subplots(1,1)\r\n",
        "ax.set_xlabel('epoch') ; ax.set_ylabel('Categorical Crossentropy Loss')\r\n",
        "# list of epoch numbers\r\n",
        "x = list(range(1,nb_epoch+1))\r\n",
        "# print(history.history.keys())\r\n",
        "# dict_keys(['val_loss', 'val_acc', 'loss', 'acc'])\r\n",
        "# We will get val_loss , val_acc when validation_data is passed\r\n",
        "vy = history.history['val_loss']\r\n",
        "ty = history.history['loss']\r\n",
        "plt_dynamic(x, vy, ty, ax)"
      ],
      "execution_count": 38,
      "outputs": [
        {
          "output_type": "display_data",
          "data": {
            "image/png": "[encoded data removed]",
            "text/plain": [
              "<Figure size 432x288 with 1 Axes>"
            ]
          },
          "metadata": {
            "tags": [],
            "needs_background": "light"
          }
        }
      ]
    },
    {
      "cell_type": "markdown",
      "metadata": {
        "id": "Q9OS8YtVGghy"
      },
      "source": [
        "MLP: Two Hidden layers with Sigmoid Activation\r\n"
      ]
    },
    {
      "cell_type": "code",
      "metadata": {
        "colab": {
          "base_uri": "https://localhost:8080/"
        },
        "id": "vX-vwnjOGfbl",
        "outputId": "a987e65c-e52f-48c7-bcf0-0f8781bc8d6a"
      },
      "source": [
        "model_sigmoid = Sequential()\r\n",
        "model_sigmoid.add(Dense(512, activation='sigmoid', input_shape = (input_dim,)))\r\n",
        "model_sigmoid.add(Dense(128, activation='sigmoid'))\r\n",
        "model_sigmoid.add(Dense(output_dim, activation='softmax'))\r\n",
        "\r\n",
        "model_sigmoid.summary()"
      ],
      "execution_count": 39,
      "outputs": [
        {
          "output_type": "stream",
          "text": [
            "Model: \"sequential_5\"\n",
            "_________________________________________________________________\n",
            "Layer (type)                 Output Shape              Param #   \n",
            "=================================================================\n",
            "dense_4 (Dense)              (None, 512)               401920    \n",
            "_________________________________________________________________\n",
            "dense_5 (Dense)              (None, 128)               65664     \n",
            "_________________________________________________________________\n",
            "dense_6 (Dense)              (None, 10)                1290      \n",
            "=================================================================\n",
            "Total params: 468,874\n",
            "Trainable params: 468,874\n",
            "Non-trainable params: 0\n",
            "_________________________________________________________________\n"
          ],
          "name": "stdout"
        }
      ]
    },
    {
      "cell_type": "code",
      "metadata": {
        "colab": {
          "base_uri": "https://localhost:8080/"
        },
        "id": "RHCXxxktH4Ra",
        "outputId": "8d20650f-43f8-4ecd-e364-c4cd8d846b1d"
      },
      "source": [
        "model_sigmoid.compile(optimizer = 'sgd', loss= 'categorical_crossentropy', metrics =['accuracy'] )\r\n",
        "\r\n",
        "history = model_sigmoid.fit(X_train, Y_train, batch_size=batch_size, epochs=nb_epoch, verbose=1, validation_data=(X_test, Y_test))"
      ],
      "execution_count": 40,
      "outputs": [
        {
          "output_type": "stream",
          "text": [
            "Epoch 1/20\n",
            "469/469 [==============================] - 4s 8ms/step - loss: 2.2735 - accuracy: 0.2045 - val_loss: 2.2244 - val_accuracy: 0.3006\n",
            "Epoch 2/20\n",
            "469/469 [==============================] - 3s 7ms/step - loss: 2.1783 - accuracy: 0.4566 - val_loss: 2.1209 - val_accuracy: 0.5665\n",
            "Epoch 3/20\n",
            "469/469 [==============================] - 3s 7ms/step - loss: 2.0565 - accuracy: 0.5745 - val_loss: 1.9727 - val_accuracy: 0.6472\n",
            "Epoch 4/20\n",
            "469/469 [==============================] - 3s 7ms/step - loss: 1.8811 - accuracy: 0.6334 - val_loss: 1.7638 - val_accuracy: 0.6461\n",
            "Epoch 5/20\n",
            "469/469 [==============================] - 3s 7ms/step - loss: 1.6517 - accuracy: 0.6684 - val_loss: 1.5167 - val_accuracy: 0.7134\n",
            "Epoch 6/20\n",
            "469/469 [==============================] - 4s 8ms/step - loss: 1.4112 - accuracy: 0.7105 - val_loss: 1.2872 - val_accuracy: 0.7618\n",
            "Epoch 7/20\n",
            "469/469 [==============================] - 3s 7ms/step - loss: 1.2062 - accuracy: 0.7470 - val_loss: 1.1054 - val_accuracy: 0.7655\n",
            "Epoch 8/20\n",
            "469/469 [==============================] - 3s 7ms/step - loss: 1.0484 - accuracy: 0.7726 - val_loss: 0.9694 - val_accuracy: 0.7869\n",
            "Epoch 9/20\n",
            "469/469 [==============================] - 3s 7ms/step - loss: 0.9292 - accuracy: 0.7900 - val_loss: 0.8657 - val_accuracy: 0.8030\n",
            "Epoch 10/20\n",
            "469/469 [==============================] - 3s 7ms/step - loss: 0.8378 - accuracy: 0.8043 - val_loss: 0.7847 - val_accuracy: 0.8168\n",
            "Epoch 11/20\n",
            "469/469 [==============================] - 3s 7ms/step - loss: 0.7661 - accuracy: 0.8162 - val_loss: 0.7205 - val_accuracy: 0.8286\n",
            "Epoch 12/20\n",
            "469/469 [==============================] - 3s 7ms/step - loss: 0.7086 - accuracy: 0.8263 - val_loss: 0.6701 - val_accuracy: 0.8375\n",
            "Epoch 13/20\n",
            "469/469 [==============================] - 3s 7ms/step - loss: 0.6618 - accuracy: 0.8343 - val_loss: 0.6270 - val_accuracy: 0.8463\n",
            "Epoch 14/20\n",
            "469/469 [==============================] - 3s 7ms/step - loss: 0.6231 - accuracy: 0.8419 - val_loss: 0.5909 - val_accuracy: 0.8537\n",
            "Epoch 15/20\n",
            "469/469 [==============================] - 3s 7ms/step - loss: 0.5903 - accuracy: 0.8495 - val_loss: 0.5599 - val_accuracy: 0.8595\n",
            "Epoch 16/20\n",
            "469/469 [==============================] - 3s 7ms/step - loss: 0.5625 - accuracy: 0.8549 - val_loss: 0.5349 - val_accuracy: 0.8644\n",
            "Epoch 17/20\n",
            "469/469 [==============================] - 3s 7ms/step - loss: 0.5387 - accuracy: 0.8600 - val_loss: 0.5129 - val_accuracy: 0.8684\n",
            "Epoch 18/20\n",
            "469/469 [==============================] - 3s 7ms/step - loss: 0.5178 - accuracy: 0.8646 - val_loss: 0.4935 - val_accuracy: 0.8733\n",
            "Epoch 19/20\n",
            "469/469 [==============================] - 3s 7ms/step - loss: 0.4996 - accuracy: 0.8688 - val_loss: 0.4751 - val_accuracy: 0.8762\n",
            "Epoch 20/20\n",
            "469/469 [==============================] - 3s 7ms/step - loss: 0.4835 - accuracy: 0.8717 - val_loss: 0.4606 - val_accuracy: 0.8781\n"
          ],
          "name": "stdout"
        }
      ]
    },
    {
      "cell_type": "code",
      "metadata": {
        "colab": {
          "base_uri": "https://localhost:8080/"
        },
        "id": "U5ELDSowI40e",
        "outputId": "37d212f4-073a-4539-a345-b2e8aa0b4c19"
      },
      "source": [
        "score = model.evaluate(X_test, Y_test, verbose=0) \r\n",
        "print('Test score:', score[0]) \r\n",
        "print('Test accuracy:', score[1])"
      ],
      "execution_count": 41,
      "outputs": [
        {
          "output_type": "stream",
          "text": [
            "Test score: 0.3354513943195343\n",
            "Test accuracy: 0.909600019454956\n"
          ],
          "name": "stdout"
        }
      ]
    },
    {
      "cell_type": "code",
      "metadata": {
        "colab": {
          "base_uri": "https://localhost:8080/",
          "height": 279
        },
        "id": "8fvNh_oxJEg6",
        "outputId": "6dd6bf6c-19e3-4806-a7d9-f6dafc126086"
      },
      "source": [
        "\r\n",
        "fig,ax = plt.subplots(1,1)\r\n",
        "ax.set_xlabel('epoch') ; ax.set_ylabel('Categorical Crossentropy Loss')\r\n",
        "# list of epoch numbers\r\n",
        "x = list(range(1,nb_epoch+1))\r\n",
        "# print(history.history.keys())\r\n",
        "# dict_keys(['val_loss', 'val_acc', 'loss', 'acc'])\r\n",
        "# We will get val_loss , val_acc when validation_data is passed\r\n",
        "vy = history.history['val_loss']\r\n",
        "ty = history.history['loss']\r\n",
        "plt_dynamic(x, vy, ty, ax)"
      ],
      "execution_count": 42,
      "outputs": [
        {
          "output_type": "display_data",
          "data": {
            "image/png": "[encoded data removed]",
            "text/plain": [
              "<Figure size 432x288 with 1 Axes>"
            ]
          },
          "metadata": {
            "tags": [],
            "needs_background": "light"
          }
        }
      ]
    },
    {
      "cell_type": "code",
      "metadata": {
        "colab": {
          "base_uri": "https://localhost:8080/",
          "height": 285
        },
        "id": "euLXLULVJfYx",
        "outputId": "b1a0e6f2-8e94-4180-a548-fed987df96e7"
      },
      "source": [
        "#Violin Plot of weights\r\n",
        "w_after = model_sigmoid.get_weights()\r\n",
        "\r\n",
        "h1_w = w_after[0].flatten().reshape(-1,1)\r\n",
        "h2_w = w_after[2].flatten().reshape(-1,1)\r\n",
        "out_w = w_after[4].flatten().reshape(-1,1)\r\n",
        "\r\n",
        "\r\n",
        "fig = plt.figure()\r\n",
        "plt.title(\"Weight matrices after model trained\")\r\n",
        "plt.subplot(1, 3, 1)\r\n",
        "plt.title(\"Trained model Weights\")\r\n",
        "ax = sns.violinplot(y=h1_w,color='b')\r\n",
        "plt.xlabel('Hidden Layer 1')\r\n",
        "\r\n",
        "plt.subplot(1, 3, 2)\r\n",
        "plt.title(\"Trained model Weights\")\r\n",
        "ax = sns.violinplot(y=h2_w, color='r')\r\n",
        "plt.xlabel('Hidden Layer 2 ')\r\n",
        "\r\n",
        "plt.subplot(1, 3, 3)\r\n",
        "plt.title(\"Trained model Weights\")\r\n",
        "ax = sns.violinplot(y=out_w,color='y')\r\n",
        "plt.xlabel('Output Layer ')\r\n",
        "plt.show()"
      ],
      "execution_count": 43,
      "outputs": [
        {
          "output_type": "display_data",
          "data": {
            "image/png": "[encoded data removed]",
            "text/plain": [
              "<Figure size 432x288 with 3 Axes>"
            ]
          },
          "metadata": {
            "tags": [],
            "needs_background": "light"
          }
        }
      ]
    },
    {
      "cell_type": "markdown",
      "metadata": {
        "id": "IZfVXC1sKMVm"
      },
      "source": [
        "MLP + ReLU + ADAM + Batch Normalization + DropOut with He Initialisation"
      ]
    },
    {
      "cell_type": "code",
      "metadata": {
        "id": "YmNuWiwFL7uA"
      },
      "source": [
        "from tensorflow.keras.layers import Dropout\r\n",
        "from keras.layers.normalization import BatchNormalization"
      ],
      "execution_count": 48,
      "outputs": []
    },
    {
      "cell_type": "code",
      "metadata": {
        "colab": {
          "base_uri": "https://localhost:8080/"
        },
        "id": "AafGpJwMKixP",
        "outputId": "3dd1a96f-0791-416e-d573-b4476e661588"
      },
      "source": [
        "# for relu layers\r\n",
        "# If we sample weights from a normal distribution N(0,σ) we satisfy this condition with σ=√(2/(ni). \r\n",
        "# h1 =>  σ=√(2/(fan_in) = 0.062  => N(0,σ) = N(0,0.062)\r\n",
        "# h2 =>  σ=√(2/(fan_in)  = 0.125  => N(0,σ) = N(0,0.125)\r\n",
        "# out =>  σ=√(2/(fan_in+1) = 0.120  => N(0,σ) = N(0,0.120)\r\n",
        "\r\n",
        "model_relu = Sequential()\r\n",
        "model_relu.add(Dense(512, activation='relu', input_shape=(input_dim,), kernel_initializer=RandomNormal(mean=0.0, stddev=0.062, seed=None)))\r\n",
        "model_relu.add(BatchNormalization())\r\n",
        "model_relu.add(Dropout(0.5))\r\n",
        "\r\n",
        "model_relu.add(Dense(128, activation='relu', kernel_initializer=RandomNormal(mean=0.0, stddev=0.125, seed=None)) )\r\n",
        "model_relu.add(BatchNormalization())\r\n",
        "model_relu.add(Dropout(0.5))\r\n",
        "\r\n",
        "model_relu.add(Dense(output_dim, activation='softmax'))\r\n",
        "\r\n",
        "model_relu.summary()"
      ],
      "execution_count": 50,
      "outputs": [
        {
          "output_type": "stream",
          "text": [
            "Model: \"sequential_8\"\n",
            "_________________________________________________________________\n",
            "Layer (type)                 Output Shape              Param #   \n",
            "=================================================================\n",
            "dense_11 (Dense)             (None, 512)               401920    \n",
            "_________________________________________________________________\n",
            "batch_normalization (BatchNo (None, 512)               2048      \n",
            "_________________________________________________________________\n",
            "dropout (Dropout)            (None, 512)               0         \n",
            "_________________________________________________________________\n",
            "dense_12 (Dense)             (None, 128)               65664     \n",
            "_________________________________________________________________\n",
            "batch_normalization_1 (Batch (None, 128)               512       \n",
            "_________________________________________________________________\n",
            "dropout_1 (Dropout)          (None, 128)               0         \n",
            "_________________________________________________________________\n",
            "dense_13 (Dense)             (None, 10)                1290      \n",
            "=================================================================\n",
            "Total params: 471,434\n",
            "Trainable params: 470,154\n",
            "Non-trainable params: 1,280\n",
            "_________________________________________________________________\n"
          ],
          "name": "stdout"
        }
      ]
    },
    {
      "cell_type": "code",
      "metadata": {
        "colab": {
          "base_uri": "https://localhost:8080/"
        },
        "id": "SB-6TeokKn1l",
        "outputId": "93cb90e2-2890-4c4c-f97d-61e4476e5835"
      },
      "source": [
        "model_relu.compile(optimizer='adam', loss='categorical_crossentropy', metrics=['accuracy'])\r\n",
        "\r\n",
        "history = model_relu.fit(X_train, Y_train, batch_size=batch_size, epochs=nb_epoch, verbose=1, validation_data=(X_test, Y_test))"
      ],
      "execution_count": 51,
      "outputs": [
        {
          "output_type": "stream",
          "text": [
            "Epoch 1/20\n",
            "469/469 [==============================] - 5s 11ms/step - loss: 0.4823 - accuracy: 0.8529 - val_loss: 0.1553 - val_accuracy: 0.9526\n",
            "Epoch 2/20\n",
            "469/469 [==============================] - 5s 11ms/step - loss: 0.2269 - accuracy: 0.9318 - val_loss: 0.1176 - val_accuracy: 0.9646\n",
            "Epoch 3/20\n",
            "469/469 [==============================] - 5s 11ms/step - loss: 0.1757 - accuracy: 0.9460 - val_loss: 0.0964 - val_accuracy: 0.9706\n",
            "Epoch 4/20\n",
            "469/469 [==============================] - 5s 11ms/step - loss: 0.1479 - accuracy: 0.9558 - val_loss: 0.0838 - val_accuracy: 0.9743\n",
            "Epoch 5/20\n",
            "469/469 [==============================] - 5s 11ms/step - loss: 0.1308 - accuracy: 0.9599 - val_loss: 0.0772 - val_accuracy: 0.9758\n",
            "Epoch 6/20\n",
            "469/469 [==============================] - 5s 11ms/step - loss: 0.1151 - accuracy: 0.9642 - val_loss: 0.0725 - val_accuracy: 0.9764\n",
            "Epoch 7/20\n",
            "469/469 [==============================] - 5s 11ms/step - loss: 0.1083 - accuracy: 0.9666 - val_loss: 0.0703 - val_accuracy: 0.9798\n",
            "Epoch 8/20\n",
            "469/469 [==============================] - 5s 11ms/step - loss: 0.0982 - accuracy: 0.9694 - val_loss: 0.0683 - val_accuracy: 0.9774\n",
            "Epoch 9/20\n",
            "469/469 [==============================] - 5s 11ms/step - loss: 0.0926 - accuracy: 0.9712 - val_loss: 0.0680 - val_accuracy: 0.9782\n",
            "Epoch 10/20\n",
            "469/469 [==============================] - 5s 11ms/step - loss: 0.0872 - accuracy: 0.9725 - val_loss: 0.0626 - val_accuracy: 0.9802\n",
            "Epoch 11/20\n",
            "469/469 [==============================] - 5s 11ms/step - loss: 0.0794 - accuracy: 0.9751 - val_loss: 0.0559 - val_accuracy: 0.9816\n",
            "Epoch 12/20\n",
            "469/469 [==============================] - 5s 11ms/step - loss: 0.0767 - accuracy: 0.9759 - val_loss: 0.0601 - val_accuracy: 0.9828\n",
            "Epoch 13/20\n",
            "469/469 [==============================] - 5s 11ms/step - loss: 0.0718 - accuracy: 0.9770 - val_loss: 0.0577 - val_accuracy: 0.9823\n",
            "Epoch 14/20\n",
            "469/469 [==============================] - 5s 11ms/step - loss: 0.0694 - accuracy: 0.9777 - val_loss: 0.0640 - val_accuracy: 0.9808\n",
            "Epoch 15/20\n",
            "469/469 [==============================] - 5s 11ms/step - loss: 0.0662 - accuracy: 0.9790 - val_loss: 0.0596 - val_accuracy: 0.9834\n",
            "Epoch 16/20\n",
            "469/469 [==============================] - 5s 11ms/step - loss: 0.0629 - accuracy: 0.9801 - val_loss: 0.0568 - val_accuracy: 0.9830\n",
            "Epoch 17/20\n",
            "469/469 [==============================] - 5s 11ms/step - loss: 0.0607 - accuracy: 0.9801 - val_loss: 0.0598 - val_accuracy: 0.9826\n",
            "Epoch 18/20\n",
            "469/469 [==============================] - 5s 10ms/step - loss: 0.0595 - accuracy: 0.9819 - val_loss: 0.0604 - val_accuracy: 0.9828\n",
            "Epoch 19/20\n",
            "469/469 [==============================] - 5s 11ms/step - loss: 0.0544 - accuracy: 0.9823 - val_loss: 0.0573 - val_accuracy: 0.9836\n",
            "Epoch 20/20\n",
            "469/469 [==============================] - 5s 10ms/step - loss: 0.0529 - accuracy: 0.9830 - val_loss: 0.0570 - val_accuracy: 0.9837\n"
          ],
          "name": "stdout"
        }
      ]
    },
    {
      "cell_type": "code",
      "metadata": {
        "colab": {
          "base_uri": "https://localhost:8080/"
        },
        "id": "xXpPAZj8Kw-S",
        "outputId": "990538aa-ee20-4bd7-b890-f7037120f31b"
      },
      "source": [
        "score = model_relu.evaluate(X_test, Y_test, verbose=0) \r\n",
        "print('Test score:', score[0]) \r\n",
        "print('Test accuracy:', score[1])"
      ],
      "execution_count": 52,
      "outputs": [
        {
          "output_type": "stream",
          "text": [
            "Test score: 0.05702924728393555\n",
            "Test accuracy: 0.9836999773979187\n"
          ],
          "name": "stdout"
        }
      ]
    },
    {
      "cell_type": "code",
      "metadata": {
        "colab": {
          "base_uri": "https://localhost:8080/",
          "height": 285
        },
        "id": "PB-nfTJWK3xY",
        "outputId": "4d36dc39-8b12-4280-8d35-c1f604385c03"
      },
      "source": [
        "#Violin Plot of weights\r\n",
        "w_after = model_sigmoid.get_weights()\r\n",
        "\r\n",
        "h1_w = w_after[0].flatten().reshape(-1,1)\r\n",
        "h2_w = w_after[2].flatten().reshape(-1,1)\r\n",
        "out_w = w_after[4].flatten().reshape(-1,1)\r\n",
        "\r\n",
        "\r\n",
        "fig = plt.figure()\r\n",
        "plt.title(\"Weight matrices after model trained\")\r\n",
        "plt.subplot(1, 3, 1)\r\n",
        "plt.title(\"Trained model Weights\")\r\n",
        "ax = sns.violinplot(y=h1_w,color='b')\r\n",
        "plt.xlabel('Hidden Layer 1')\r\n",
        "\r\n",
        "plt.subplot(1, 3, 2)\r\n",
        "plt.title(\"Trained model Weights\")\r\n",
        "ax = sns.violinplot(y=h2_w, color='r')\r\n",
        "plt.xlabel('Hidden Layer 2 ')\r\n",
        "\r\n",
        "plt.subplot(1, 3, 3)\r\n",
        "plt.title(\"Trained model Weights\")\r\n",
        "ax = sns.violinplot(y=out_w,color='y')\r\n",
        "plt.xlabel('Output Layer ')\r\n",
        "plt.show()"
      ],
      "execution_count": 53,
      "outputs": [
        {
          "output_type": "display_data",
          "data": {
            "image/png": "[encoded data removed]",
            "text/plain": [
              "<Figure size 432x288 with 3 Axes>"
            ]
          },
          "metadata": {
            "tags": [],
            "needs_background": "light"
          }
        }
      ]
    }
  ]
}