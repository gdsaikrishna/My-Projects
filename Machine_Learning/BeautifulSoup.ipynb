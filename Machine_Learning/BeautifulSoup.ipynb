{
  "nbformat": 4,
  "nbformat_minor": 0,
  "metadata": {
    "colab": {
      "name": "BeautifulSoup.ipynb",
      "provenance": [],
      "collapsed_sections": []
    },
    "kernelspec": {
      "name": "python3",
      "display_name": "Python 3"
    }
  },
  "cells": [
    {
      "cell_type": "markdown",
      "metadata": {
        "id": "ua0qwqMOPKOC"
      },
      "source": [
        "BeautifulSoup is a Python library for pulling data out of HTML and XML files"
      ]
    },
    {
      "cell_type": "code",
      "metadata": {
        "id": "--UI3taOOZoN"
      },
      "source": [
        "#Let use a HTML document having a part of story from Alice in Wonderland \r\n",
        "html_doc = \"\"\"<html><head><title>The Dormouse's story</title></head>\r\n",
        "<body>\r\n",
        "<p class=\"title\"><b>The Dormouse's story</b></p>\r\n",
        "\r\n",
        "<p class=\"story\">Once upon a time there were three little sisters; and their names were\r\n",
        "<a href=\"http://example.com/elsie\" class=\"sister\" id=\"link1\">Elsie</a>,\r\n",
        "<a href=\"http://example.com/lacie\" class=\"sister\" id=\"link2\">Lacie</a> and\r\n",
        "<a href=\"http://example.com/tillie\" class=\"sister\" id=\"link3\">Tillie</a>;\r\n",
        "and they lived at the bottom of a well.</p>\r\n",
        "\r\n",
        "<p class=\"story\">...</p>\r\n",
        "\"\"\""
      ],
      "execution_count": 1,
      "outputs": []
    },
    {
      "cell_type": "code",
      "metadata": {
        "id": "GLHgGAr8Po9T"
      },
      "source": [
        "from bs4 import BeautifulSoup"
      ],
      "execution_count": 2,
      "outputs": []
    },
    {
      "cell_type": "code",
      "metadata": {
        "colab": {
          "base_uri": "https://localhost:8080/"
        },
        "id": "tKwUc4aVP1gx",
        "outputId": "69d2d69f-5285-411b-be42-d9a8b2e8e2ba"
      },
      "source": [
        "soup = BeautifulSoup(html_doc, 'html.parser' )\r\n",
        "print(soup.prettify())"
      ],
      "execution_count": 3,
      "outputs": [
        {
          "output_type": "stream",
          "text": [
            "<html>\n",
            " <head>\n",
            "  <title>\n",
            "   The Dormouse's story\n",
            "  </title>\n",
            " </head>\n",
            " <body>\n",
            "  <p class=\"title\">\n",
            "   <b>\n",
            "    The Dormouse's story\n",
            "   </b>\n",
            "  </p>\n",
            "  <p class=\"story\">\n",
            "   Once upon a time there were three little sisters; and their names were\n",
            "   <a class=\"sister\" href=\"http://example.com/elsie\" id=\"link1\">\n",
            "    Elsie\n",
            "   </a>\n",
            "   ,\n",
            "   <a class=\"sister\" href=\"http://example.com/lacie\" id=\"link2\">\n",
            "    Lacie\n",
            "   </a>\n",
            "   and\n",
            "   <a class=\"sister\" href=\"http://example.com/tillie\" id=\"link3\">\n",
            "    Tillie\n",
            "   </a>\n",
            "   ;\n",
            "and they lived at the bottom of a well.\n",
            "  </p>\n",
            "  <p class=\"story\">\n",
            "   ...\n",
            "  </p>\n",
            " </body>\n",
            "</html>\n"
          ],
          "name": "stdout"
        }
      ]
    },
    {
      "cell_type": "code",
      "metadata": {
        "colab": {
          "base_uri": "https://localhost:8080/"
        },
        "id": "sPs0VDc4QHDR",
        "outputId": "3d1b933e-80ee-4840-e7de-1df22b655bc0"
      },
      "source": [
        "soup.title"
      ],
      "execution_count": 4,
      "outputs": [
        {
          "output_type": "execute_result",
          "data": {
            "text/plain": [
              "<title>The Dormouse's story</title>"
            ]
          },
          "metadata": {
            "tags": []
          },
          "execution_count": 4
        }
      ]
    },
    {
      "cell_type": "code",
      "metadata": {
        "colab": {
          "base_uri": "https://localhost:8080/",
          "height": 35
        },
        "id": "a7_7awH9QOf-",
        "outputId": "e819e6d5-3b14-4992-f78b-5d135bd6b93a"
      },
      "source": [
        "soup.title.name"
      ],
      "execution_count": 6,
      "outputs": [
        {
          "output_type": "execute_result",
          "data": {
            "application/vnd.google.colaboratory.intrinsic+json": {
              "type": "string"
            },
            "text/plain": [
              "'title'"
            ]
          },
          "metadata": {
            "tags": []
          },
          "execution_count": 6
        }
      ]
    },
    {
      "cell_type": "code",
      "metadata": {
        "colab": {
          "base_uri": "https://localhost:8080/",
          "height": 35
        },
        "id": "O_xm65V3QZSo",
        "outputId": "44e3d0a2-a246-486e-a673-082658210483"
      },
      "source": [
        "soup.title.string"
      ],
      "execution_count": 8,
      "outputs": [
        {
          "output_type": "execute_result",
          "data": {
            "application/vnd.google.colaboratory.intrinsic+json": {
              "type": "string"
            },
            "text/plain": [
              "\"The Dormouse's story\""
            ]
          },
          "metadata": {
            "tags": []
          },
          "execution_count": 8
        }
      ]
    },
    {
      "cell_type": "code",
      "metadata": {
        "colab": {
          "base_uri": "https://localhost:8080/"
        },
        "id": "KnqVKL-HQh7U",
        "outputId": "ffd59dcd-2b59-4648-eccf-2f8e594d8149"
      },
      "source": [
        "soup.p\r\n",
        "#get first p"
      ],
      "execution_count": 9,
      "outputs": [
        {
          "output_type": "execute_result",
          "data": {
            "text/plain": [
              "<p class=\"title\"><b>The Dormouse's story</b></p>"
            ]
          },
          "metadata": {
            "tags": []
          },
          "execution_count": 9
        }
      ]
    },
    {
      "cell_type": "code",
      "metadata": {
        "colab": {
          "base_uri": "https://localhost:8080/"
        },
        "id": "S5VBFEjUQxJG",
        "outputId": "0c76a573-c946-4e8c-a0c5-d748d2c2daea"
      },
      "source": [
        "soup.p['class']\r\n",
        "#name of class of first p"
      ],
      "execution_count": 10,
      "outputs": [
        {
          "output_type": "execute_result",
          "data": {
            "text/plain": [
              "['title']"
            ]
          },
          "metadata": {
            "tags": []
          },
          "execution_count": 10
        }
      ]
    },
    {
      "cell_type": "code",
      "metadata": {
        "colab": {
          "base_uri": "https://localhost:8080/"
        },
        "id": "p-FFNsMrQ5pm",
        "outputId": "9685759f-dba1-4c7f-b5e8-6ec0b10a100f"
      },
      "source": [
        "soup.a\r\n",
        "#get first a tag "
      ],
      "execution_count": 11,
      "outputs": [
        {
          "output_type": "execute_result",
          "data": {
            "text/plain": [
              "<a class=\"sister\" href=\"http://example.com/elsie\" id=\"link1\">Elsie</a>"
            ]
          },
          "metadata": {
            "tags": []
          },
          "execution_count": 11
        }
      ]
    },
    {
      "cell_type": "code",
      "metadata": {
        "colab": {
          "base_uri": "https://localhost:8080/"
        },
        "id": "T819wPUJRAEh",
        "outputId": "775fbed9-4049-4383-b15e-29f7ace570e2"
      },
      "source": [
        "soup.find_all('a')\r\n",
        "#get all tags with a"
      ],
      "execution_count": 12,
      "outputs": [
        {
          "output_type": "execute_result",
          "data": {
            "text/plain": [
              "[<a class=\"sister\" href=\"http://example.com/elsie\" id=\"link1\">Elsie</a>,\n",
              " <a class=\"sister\" href=\"http://example.com/lacie\" id=\"link2\">Lacie</a>,\n",
              " <a class=\"sister\" href=\"http://example.com/tillie\" id=\"link3\">Tillie</a>]"
            ]
          },
          "metadata": {
            "tags": []
          },
          "execution_count": 12
        }
      ]
    },
    {
      "cell_type": "code",
      "metadata": {
        "colab": {
          "base_uri": "https://localhost:8080/"
        },
        "id": "WjkzbAT7RJ6T",
        "outputId": "3717c521-1261-4a5f-e1b0-4a343ab30d3d"
      },
      "source": [
        "#extract all URLs found within <a> tags\r\n",
        "for link in soup.find_all('a'):\r\n",
        "    print(link.get('href'))"
      ],
      "execution_count": 13,
      "outputs": [
        {
          "output_type": "stream",
          "text": [
            "http://example.com/elsie\n",
            "http://example.com/lacie\n",
            "http://example.com/tillie\n"
          ],
          "name": "stdout"
        }
      ]
    },
    {
      "cell_type": "code",
      "metadata": {
        "colab": {
          "base_uri": "https://localhost:8080/"
        },
        "id": "iRoafZtGRbTp",
        "outputId": "f9e79503-8be4-4fb4-dd73-7c15183cd6e2"
      },
      "source": [
        "#get tag with given id\r\n",
        "soup.find(id='link3')"
      ],
      "execution_count": 14,
      "outputs": [
        {
          "output_type": "execute_result",
          "data": {
            "text/plain": [
              "<a class=\"sister\" href=\"http://example.com/tillie\" id=\"link3\">Tillie</a>"
            ]
          },
          "metadata": {
            "tags": []
          },
          "execution_count": 14
        }
      ]
    },
    {
      "cell_type": "code",
      "metadata": {
        "colab": {
          "base_uri": "https://localhost:8080/"
        },
        "id": "RaZ8x4-VRq59",
        "outputId": "45894ffd-4d5d-4efa-8852-c885a6f2a90a"
      },
      "source": [
        "#Extract all text\r\n",
        "print(soup.get_text())"
      ],
      "execution_count": 15,
      "outputs": [
        {
          "output_type": "stream",
          "text": [
            "The Dormouse's story\n",
            "\n",
            "The Dormouse's story\n",
            "Once upon a time there were three little sisters; and their names were\n",
            "Elsie,\n",
            "Lacie and\n",
            "Tillie;\n",
            "and they lived at the bottom of a well.\n",
            "...\n",
            "\n"
          ],
          "name": "stdout"
        }
      ]
    },
    {
      "cell_type": "markdown",
      "metadata": {
        "id": "cS7zVrg-TQu0"
      },
      "source": [
        "Four kinds of objects we deal with are :\r\n",
        "Tag, NavigableString, BeautifulSoup, Comment"
      ]
    },
    {
      "cell_type": "code",
      "metadata": {
        "colab": {
          "base_uri": "https://localhost:8080/",
          "height": 35
        },
        "id": "h2IJEJ5-TZ5w",
        "outputId": "fdf75059-deba-402e-b7eb-5dc90cea99b8"
      },
      "source": [
        "#Tag above examples like soup.a bcz a is a tag\r\n",
        "tag = soup.title\r\n",
        "tag.name"
      ],
      "execution_count": 16,
      "outputs": [
        {
          "output_type": "execute_result",
          "data": {
            "application/vnd.google.colaboratory.intrinsic+json": {
              "type": "string"
            },
            "text/plain": [
              "'title'"
            ]
          },
          "metadata": {
            "tags": []
          },
          "execution_count": 16
        }
      ]
    },
    {
      "cell_type": "code",
      "metadata": {
        "colab": {
          "base_uri": "https://localhost:8080/"
        },
        "id": "iVZDlQH0T19O",
        "outputId": "ef85bcdf-436d-4426-c020-9fba6d583098"
      },
      "source": [
        "tag.name= 'change'\r\n",
        "tag\r\n",
        "#We can observe change in name of tag"
      ],
      "execution_count": 17,
      "outputs": [
        {
          "output_type": "execute_result",
          "data": {
            "text/plain": [
              "<change>The Dormouse's story</change>"
            ]
          },
          "metadata": {
            "tags": []
          },
          "execution_count": 17
        }
      ]
    },
    {
      "cell_type": "code",
      "metadata": {
        "colab": {
          "base_uri": "https://localhost:8080/"
        },
        "id": "lYhbhapWXIp6",
        "outputId": "b057288e-2a13-4569-a48e-5f069988800a"
      },
      "source": [
        "tag.name= 'title'\r\n",
        "tag"
      ],
      "execution_count": 28,
      "outputs": [
        {
          "output_type": "execute_result",
          "data": {
            "text/plain": [
              "<title>The Dormouse's story</title>"
            ]
          },
          "metadata": {
            "tags": []
          },
          "execution_count": 28
        }
      ]
    },
    {
      "cell_type": "code",
      "metadata": {
        "colab": {
          "base_uri": "https://localhost:8080/"
        },
        "id": "4aMYKts9T9lt",
        "outputId": "9a7f06db-d53d-4283-d005-9da239e00580"
      },
      "source": [
        "soup.a.attrs\r\n",
        "#We get a dictionary of attributes for a given tag"
      ],
      "execution_count": 18,
      "outputs": [
        {
          "output_type": "execute_result",
          "data": {
            "text/plain": [
              "{'class': ['sister'], 'href': 'http://example.com/elsie', 'id': 'link1'}"
            ]
          },
          "metadata": {
            "tags": []
          },
          "execution_count": 18
        }
      ]
    },
    {
      "cell_type": "code",
      "metadata": {
        "colab": {
          "base_uri": "https://localhost:8080/"
        },
        "id": "KWmk6m5mUNKq",
        "outputId": "b46e2dec-4395-453c-b7e7-a82adeb5d09b"
      },
      "source": [
        "tag['insert'] = 1\r\n",
        "tag\r\n",
        "#adding a attribute to a tag"
      ],
      "execution_count": 19,
      "outputs": [
        {
          "output_type": "execute_result",
          "data": {
            "text/plain": [
              "<change insert=\"1\">The Dormouse's story</change>"
            ]
          },
          "metadata": {
            "tags": []
          },
          "execution_count": 19
        }
      ]
    },
    {
      "cell_type": "code",
      "metadata": {
        "colab": {
          "base_uri": "https://localhost:8080/"
        },
        "id": "-MjRjkIlUepE",
        "outputId": "4070ee49-cc11-452c-88a1-eeca11534bbd"
      },
      "source": [
        "#delete an attribute in a tag \r\n",
        "del tag['insert']\r\n",
        "tag"
      ],
      "execution_count": 20,
      "outputs": [
        {
          "output_type": "execute_result",
          "data": {
            "text/plain": [
              "<change>The Dormouse's story</change>"
            ]
          },
          "metadata": {
            "tags": []
          },
          "execution_count": 20
        }
      ]
    },
    {
      "cell_type": "code",
      "metadata": {
        "colab": {
          "base_uri": "https://localhost:8080/"
        },
        "id": "vIFt6PGpUdXb",
        "outputId": "85a879d8-696c-4ca6-921b-fc77c19daf17"
      },
      "source": [
        "#printing multiple classes\r\n",
        "css_soup = BeautifulSoup('<p class=\"body strikeout\"></p>', 'html.parser')\r\n",
        "css_soup.p['class']"
      ],
      "execution_count": 21,
      "outputs": [
        {
          "output_type": "execute_result",
          "data": {
            "text/plain": [
              "['body', 'strikeout']"
            ]
          },
          "metadata": {
            "tags": []
          },
          "execution_count": 21
        }
      ]
    },
    {
      "cell_type": "code",
      "metadata": {
        "colab": {
          "base_uri": "https://localhost:8080/",
          "height": 35
        },
        "id": "-Ya0RjNeVGix",
        "outputId": "7176af00-0b58-444b-982f-cccfed8a83ac"
      },
      "source": [
        "#If an attribute looks like it has more than one value, \r\n",
        "#but it’s not a multi-valued attribute as defined by any version of the HTML standard, \r\n",
        "#Beautiful Soup will leave the attribute alone\r\n",
        "id_soup = BeautifulSoup('<p id=\"my id\"></p>', 'html.parser')\r\n",
        "id_soup.p['id']"
      ],
      "execution_count": 22,
      "outputs": [
        {
          "output_type": "execute_result",
          "data": {
            "application/vnd.google.colaboratory.intrinsic+json": {
              "type": "string"
            },
            "text/plain": [
              "'my id'"
            ]
          },
          "metadata": {
            "tags": []
          },
          "execution_count": 22
        }
      ]
    },
    {
      "cell_type": "code",
      "metadata": {
        "colab": {
          "base_uri": "https://localhost:8080/",
          "height": 35
        },
        "id": "LjyLM5gAVdPs",
        "outputId": "afe2220b-3b46-4dd8-8343-bd2a326e713a"
      },
      "source": [
        "#If you parse a document as XML, there are no multi-valued attributes\r\n",
        "xml_soup = BeautifulSoup('<p class=\"body strikeout\"></p>', 'xml')\r\n",
        "xml_soup.p['class']"
      ],
      "execution_count": 24,
      "outputs": [
        {
          "output_type": "execute_result",
          "data": {
            "application/vnd.google.colaboratory.intrinsic+json": {
              "type": "string"
            },
            "text/plain": [
              "'body strikeout'"
            ]
          },
          "metadata": {
            "tags": []
          },
          "execution_count": 24
        }
      ]
    },
    {
      "cell_type": "code",
      "metadata": {
        "colab": {
          "base_uri": "https://localhost:8080/"
        },
        "id": "6G1sykgyWSgq",
        "outputId": "271fa192-d7fd-458f-bb40-ccb06b423f2e"
      },
      "source": [
        "#Navigable String like soup.title.string\r\n",
        "type(soup.title.string)"
      ],
      "execution_count": 29,
      "outputs": [
        {
          "output_type": "execute_result",
          "data": {
            "text/plain": [
              "bs4.element.NavigableString"
            ]
          },
          "metadata": {
            "tags": []
          },
          "execution_count": 29
        }
      ]
    },
    {
      "cell_type": "code",
      "metadata": {
        "colab": {
          "base_uri": "https://localhost:8080/"
        },
        "id": "XYL86qRrXZWo",
        "outputId": "7b226f77-0167-46ba-d66d-002241549d2e"
      },
      "source": [
        "#Convert navigable string to Unicode String\r\n",
        "unicode_string = str(soup.title.string)\r\n",
        "type(unicode_string)\r\n",
        "#soup.title.string.replace_with(\"Replaced content\")\r\n",
        "#It will replace the string with \"Replaced content\""
      ],
      "execution_count": 30,
      "outputs": [
        {
          "output_type": "execute_result",
          "data": {
            "text/plain": [
              "str"
            ]
          },
          "metadata": {
            "tags": []
          },
          "execution_count": 30
        }
      ]
    },
    {
      "cell_type": "markdown",
      "metadata": {
        "id": "ldGcarOyYGdV"
      },
      "source": [
        "If you want to use a NavigableString outside of Beautiful Soup, you should call unicode() on it to turn it into a normal Python Unicode string. If you don’t, your string will carry around a reference to the entire Beautiful Soup parse tree, even when you’re done using Beautiful Soup. This is a big waste of memory."
      ]
    },
    {
      "cell_type": "code",
      "metadata": {
        "id": "pvx2KKJ2X9-m"
      },
      "source": [
        "#The BeautifulSoup object represents the parsed document as a whole.\r\n",
        "#Comment is for getting the comment in the HTML or XML file"
      ],
      "execution_count": null,
      "outputs": []
    },
    {
      "cell_type": "code",
      "metadata": {
        "colab": {
          "base_uri": "https://localhost:8080/"
        },
        "id": "R_kSrgVUZQpb",
        "outputId": "bafda8cd-396a-47a0-a2ab-32039e099407"
      },
      "source": [
        "#list of content for the tag\r\n",
        "head_tag = soup.head\r\n",
        "head_tag.contents"
      ],
      "execution_count": 31,
      "outputs": [
        {
          "output_type": "execute_result",
          "data": {
            "text/plain": [
              "[<title>The Dormouse's story</title>]"
            ]
          },
          "metadata": {
            "tags": []
          },
          "execution_count": 31
        }
      ]
    },
    {
      "cell_type": "code",
      "metadata": {
        "colab": {
          "base_uri": "https://localhost:8080/"
        },
        "id": "0Y4utn4rZimR",
        "outputId": "2e4b7e4a-40bb-414f-baf0-b0a76ec9f70d"
      },
      "source": [
        "#The BeautifulSoup object itself has children. In this case, the <html> tag is the child of the BeautifulSoup object.\r\n",
        "#Navigable String won't have any contents\r\n",
        "#Instead of list ,we can parse it using .children\r\n",
        "for child in head_tag.children:\r\n",
        "    print(child) "
      ],
      "execution_count": 32,
      "outputs": [
        {
          "output_type": "stream",
          "text": [
            "<title>The Dormouse's story</title>\n"
          ],
          "name": "stdout"
        }
      ]
    },
    {
      "cell_type": "code",
      "metadata": {
        "colab": {
          "base_uri": "https://localhost:8080/"
        },
        "id": "f6UBmotOaJ5P",
        "outputId": "b9d332e5-3e9a-4681-d6a8-9f2022c705cf"
      },
      "source": [
        "#The .descendants attribute lets you iterate over all of a tag’s children, \r\n",
        "#recursively\r\n",
        "for child in head_tag.descendants:\r\n",
        "    print(child)"
      ],
      "execution_count": 33,
      "outputs": [
        {
          "output_type": "stream",
          "text": [
            "<title>The Dormouse's story</title>\n",
            "The Dormouse's story\n"
          ],
          "name": "stdout"
        }
      ]
    },
    {
      "cell_type": "code",
      "metadata": {
        "colab": {
          "base_uri": "https://localhost:8080/"
        },
        "id": "xIzHxOQZaYCg",
        "outputId": "847beb31-35cd-4ce1-fad0-8ce77ccea320"
      },
      "source": [
        "len(list(soup.children))\r\n",
        "#output 1 bcz of only one html tag child"
      ],
      "execution_count": 34,
      "outputs": [
        {
          "output_type": "execute_result",
          "data": {
            "text/plain": [
              "1"
            ]
          },
          "metadata": {
            "tags": []
          },
          "execution_count": 34
        }
      ]
    },
    {
      "cell_type": "code",
      "metadata": {
        "colab": {
          "base_uri": "https://localhost:8080/"
        },
        "id": "NJz2L-1WaiBe",
        "outputId": "bedf95f7-8c77-4542-c024-ed7c4ef44c0e"
      },
      "source": [
        "len(list(soup.descendants))\r\n",
        "#children of children recursively"
      ],
      "execution_count": 35,
      "outputs": [
        {
          "output_type": "execute_result",
          "data": {
            "text/plain": [
              "26"
            ]
          },
          "metadata": {
            "tags": []
          },
          "execution_count": 35
        }
      ]
    },
    {
      "cell_type": "code",
      "metadata": {
        "colab": {
          "base_uri": "https://localhost:8080/"
        },
        "id": "f01PWH7ebLXn",
        "outputId": "d2102356-bc5e-4178-9f24-e7f91ff72cd8"
      },
      "source": [
        "#for string in soup.strings:\r\n",
        "#It will have extra white space\r\n",
        "#these extra spaces are removed by stripped_strings\r\n",
        "for string in soup.stripped_strings:\r\n",
        "    print(repr(string))"
      ],
      "execution_count": 36,
      "outputs": [
        {
          "output_type": "stream",
          "text": [
            "\"The Dormouse's story\"\n",
            "\"The Dormouse's story\"\n",
            "'Once upon a time there were three little sisters; and their names were'\n",
            "'Elsie'\n",
            "','\n",
            "'Lacie'\n",
            "'and'\n",
            "'Tillie'\n",
            "';\\nand they lived at the bottom of a well.'\n",
            "'...'\n"
          ],
          "name": "stdout"
        }
      ]
    },
    {
      "cell_type": "code",
      "metadata": {
        "colab": {
          "base_uri": "https://localhost:8080/"
        },
        "id": "YTO2df_Ebk8o",
        "outputId": "8c9e746a-ce7d-4cb7-ca2b-1e379b0438eb"
      },
      "source": [
        "#head tag parent is html tag so it will output full parent tag\r\n",
        "head_tag.parent"
      ],
      "execution_count": 37,
      "outputs": [
        {
          "output_type": "execute_result",
          "data": {
            "text/plain": [
              "<html><head><title>The Dormouse's story</title></head>\n",
              "<body>\n",
              "<p class=\"title\"><b>The Dormouse's story</b></p>\n",
              "<p class=\"story\">Once upon a time there were three little sisters; and their names were\n",
              "<a class=\"sister\" href=\"http://example.com/elsie\" id=\"link1\">Elsie</a>,\n",
              "<a class=\"sister\" href=\"http://example.com/lacie\" id=\"link2\">Lacie</a> and\n",
              "<a class=\"sister\" href=\"http://example.com/tillie\" id=\"link3\">Tillie</a>;\n",
              "and they lived at the bottom of a well.</p>\n",
              "<p class=\"story\">...</p>\n",
              "</body></html>"
            ]
          },
          "metadata": {
            "tags": []
          },
          "execution_count": 37
        }
      ]
    },
    {
      "cell_type": "code",
      "metadata": {
        "colab": {
          "base_uri": "https://localhost:8080/"
        },
        "id": "qnyzwGiSb86u",
        "outputId": "2bfe4be0-bc65-4ee9-c2cb-6b288d7d1651"
      },
      "source": [
        "link = soup.a\r\n",
        "for parent in link.parents:\r\n",
        "    print(parent.name)\r\n",
        "#All parents for the tag"
      ],
      "execution_count": 38,
      "outputs": [
        {
          "output_type": "stream",
          "text": [
            "p\n",
            "body\n",
            "html\n",
            "[document]\n"
          ],
          "name": "stdout"
        }
      ]
    },
    {
      "cell_type": "code",
      "metadata": {
        "colab": {
          "base_uri": "https://localhost:8080/"
        },
        "id": "mTPuiT6xcOAC",
        "outputId": "6b09ef71-28d7-4a55-f992-8293630cf929"
      },
      "source": [
        "sibling_soup = BeautifulSoup(\"<a><b>text1</b><c>text2</c></b></a>\", 'html.parser')\r\n",
        "print(sibling_soup.prettify())"
      ],
      "execution_count": 39,
      "outputs": [
        {
          "output_type": "stream",
          "text": [
            "<a>\n",
            " <b>\n",
            "  text1\n",
            " </b>\n",
            " <c>\n",
            "  text2\n",
            " </c>\n",
            "</a>\n"
          ],
          "name": "stdout"
        }
      ]
    },
    {
      "cell_type": "code",
      "metadata": {
        "colab": {
          "base_uri": "https://localhost:8080/"
        },
        "id": "c7u3ZlXJcWJF",
        "outputId": "e45b0096-46dd-48fd-8847-0aa53786a586"
      },
      "source": [
        "sibling_soup.b.next_sibling"
      ],
      "execution_count": 40,
      "outputs": [
        {
          "output_type": "execute_result",
          "data": {
            "text/plain": [
              "<c>text2</c>"
            ]
          },
          "metadata": {
            "tags": []
          },
          "execution_count": 40
        }
      ]
    },
    {
      "cell_type": "code",
      "metadata": {
        "colab": {
          "base_uri": "https://localhost:8080/"
        },
        "id": "_KAvKgpQcboa",
        "outputId": "6b71bf35-a5f9-4b8e-a4e9-0b4387fa493d"
      },
      "source": [
        "sibling_soup.c.previous_sibling"
      ],
      "execution_count": 41,
      "outputs": [
        {
          "output_type": "execute_result",
          "data": {
            "text/plain": [
              "<b>text1</b>"
            ]
          },
          "metadata": {
            "tags": []
          },
          "execution_count": 41
        }
      ]
    },
    {
      "cell_type": "code",
      "metadata": {
        "colab": {
          "base_uri": "https://localhost:8080/",
          "height": 35
        },
        "id": "AaDWIrQFclun",
        "outputId": "89316039-4fef-4e94-d4d0-a2b78658bc97"
      },
      "source": [
        "#You might think that the .next_sibling of the first <a> tag would be the second <a> tag. But actually, it’s a string: \r\n",
        "#the comma and newline that separate the first <a> tag from the second\r\n",
        "link = soup.a\r\n",
        "link.next_sibling"
      ],
      "execution_count": 42,
      "outputs": [
        {
          "output_type": "execute_result",
          "data": {
            "application/vnd.google.colaboratory.intrinsic+json": {
              "type": "string"
            },
            "text/plain": [
              "',\\n'"
            ]
          },
          "metadata": {
            "tags": []
          },
          "execution_count": 42
        }
      ]
    },
    {
      "cell_type": "code",
      "metadata": {
        "colab": {
          "base_uri": "https://localhost:8080/"
        },
        "id": "Fns4lYjMc2dY",
        "outputId": "6ce1cf2f-e7f1-4c39-af42-8edf2006f82a"
      },
      "source": [
        "#Multiple siblings\r\n",
        "for sibling in soup.a.next_siblings:\r\n",
        "    print(repr(sibling))"
      ],
      "execution_count": 43,
      "outputs": [
        {
          "output_type": "stream",
          "text": [
            "',\\n'\n",
            "<a class=\"sister\" href=\"http://example.com/lacie\" id=\"link2\">Lacie</a>\n",
            "' and\\n'\n",
            "<a class=\"sister\" href=\"http://example.com/tillie\" id=\"link3\">Tillie</a>\n",
            "';\\nand they lived at the bottom of a well.'\n"
          ],
          "name": "stdout"
        }
      ]
    },
    {
      "cell_type": "code",
      "metadata": {
        "colab": {
          "base_uri": "https://localhost:8080/",
          "height": 35
        },
        "id": "v_4y0d_-dXRP",
        "outputId": "b1df548f-7ebd-40e0-a1d1-eec908b9dfbd"
      },
      "source": [
        "#.next_element - data after <a> tag\r\n",
        "last_a_tag = soup.find(\"a\", id=\"link3\")\r\n",
        "last_a_tag.next_element"
      ],
      "execution_count": 44,
      "outputs": [
        {
          "output_type": "execute_result",
          "data": {
            "application/vnd.google.colaboratory.intrinsic+json": {
              "type": "string"
            },
            "text/plain": [
              "'Tillie'"
            ]
          },
          "metadata": {
            "tags": []
          },
          "execution_count": 44
        }
      ]
    },
    {
      "cell_type": "code",
      "metadata": {
        "colab": {
          "base_uri": "https://localhost:8080/",
          "height": 35
        },
        "id": "HI_jyBn_dkLH",
        "outputId": "f8605c04-1498-40f5-e2c9-ca5741c81799"
      },
      "source": [
        "last_a_tag.next_sibling"
      ],
      "execution_count": 45,
      "outputs": [
        {
          "output_type": "execute_result",
          "data": {
            "application/vnd.google.colaboratory.intrinsic+json": {
              "type": "string"
            },
            "text/plain": [
              "';\\nand they lived at the bottom of a well.'"
            ]
          },
          "metadata": {
            "tags": []
          },
          "execution_count": 45
        }
      ]
    },
    {
      "cell_type": "code",
      "metadata": {
        "colab": {
          "base_uri": "https://localhost:8080/"
        },
        "id": "MVoldSradso1",
        "outputId": "ab11ac72-00e5-456b-e7b5-b79250307af7"
      },
      "source": [
        "soup.find_all('b')"
      ],
      "execution_count": 46,
      "outputs": [
        {
          "output_type": "execute_result",
          "data": {
            "text/plain": [
              "[<b>The Dormouse's story</b>]"
            ]
          },
          "metadata": {
            "tags": []
          },
          "execution_count": 46
        }
      ]
    },
    {
      "cell_type": "code",
      "metadata": {
        "colab": {
          "base_uri": "https://localhost:8080/"
        },
        "id": "a6MsK5ifdy5V",
        "outputId": "768ad530-cfcb-4bed-fb07-ee531931d1b5"
      },
      "source": [
        "#Use Regular expression in Beautiful Soup\r\n",
        "import re \r\n",
        "for tag in soup.find_all(re.compile(\"^b\")):\r\n",
        "    print(tag.name)"
      ],
      "execution_count": 47,
      "outputs": [
        {
          "output_type": "stream",
          "text": [
            "body\n",
            "b\n"
          ],
          "name": "stdout"
        }
      ]
    },
    {
      "cell_type": "code",
      "metadata": {
        "colab": {
          "base_uri": "https://localhost:8080/"
        },
        "id": "tvhhMDTCeDKl",
        "outputId": "97633111-a640-4530-e119-346cc33070c8"
      },
      "source": [
        "#soup.find_all(True) will output all the tags\r\n",
        "soup.find_all([\"a\", \"b\"])"
      ],
      "execution_count": 48,
      "outputs": [
        {
          "output_type": "execute_result",
          "data": {
            "text/plain": [
              "[<b>The Dormouse's story</b>,\n",
              " <a class=\"sister\" href=\"http://example.com/elsie\" id=\"link1\">Elsie</a>,\n",
              " <a class=\"sister\" href=\"http://example.com/lacie\" id=\"link2\">Lacie</a>,\n",
              " <a class=\"sister\" href=\"http://example.com/tillie\" id=\"link3\">Tillie</a>]"
            ]
          },
          "metadata": {
            "tags": []
          },
          "execution_count": 48
        }
      ]
    },
    {
      "cell_type": "code",
      "metadata": {
        "colab": {
          "base_uri": "https://localhost:8080/",
          "height": 35
        },
        "id": "aFp1aJEMenmZ",
        "outputId": "d31b0648-8b4f-4ade-82b9-168725f2698a"
      },
      "source": [
        "import re\r\n",
        "soup.find(string=re.compile(\"sisters\"))"
      ],
      "execution_count": 49,
      "outputs": [
        {
          "output_type": "execute_result",
          "data": {
            "application/vnd.google.colaboratory.intrinsic+json": {
              "type": "string"
            },
            "text/plain": [
              "'Once upon a time there were three little sisters; and their names were\\n'"
            ]
          },
          "metadata": {
            "tags": []
          },
          "execution_count": 49
        }
      ]
    },
    {
      "cell_type": "code",
      "metadata": {
        "colab": {
          "base_uri": "https://localhost:8080/"
        },
        "id": "z3fNG4GweqdA",
        "outputId": "a5a32a75-4e3f-42a5-8a07-a93c94ea5b31"
      },
      "source": [
        "def has_class_but_no_id(tag):\r\n",
        "    return tag.has_attr('class') and not tag.has_attr('id')\r\n",
        "soup.find_all(has_class_but_no_id)"
      ],
      "execution_count": 50,
      "outputs": [
        {
          "output_type": "execute_result",
          "data": {
            "text/plain": [
              "[<p class=\"title\"><b>The Dormouse's story</b></p>,\n",
              " <p class=\"story\">Once upon a time there were three little sisters; and their names were\n",
              " <a class=\"sister\" href=\"http://example.com/elsie\" id=\"link1\">Elsie</a>,\n",
              " <a class=\"sister\" href=\"http://example.com/lacie\" id=\"link2\">Lacie</a> and\n",
              " <a class=\"sister\" href=\"http://example.com/tillie\" id=\"link3\">Tillie</a>;\n",
              " and they lived at the bottom of a well.</p>,\n",
              " <p class=\"story\">...</p>]"
            ]
          },
          "metadata": {
            "tags": []
          },
          "execution_count": 50
        }
      ]
    },
    {
      "cell_type": "code",
      "metadata": {
        "colab": {
          "base_uri": "https://localhost:8080/"
        },
        "id": "2fK4eIT7fBUQ",
        "outputId": "d7d6d687-c10a-4dd6-d844-b0ec00ac5fa7"
      },
      "source": [
        "#If you want to search for tags that match two or more CSS classes, you should use a CSS selector\r\n",
        "css_soup.select(\"p.strikeout.body\")"
      ],
      "execution_count": 51,
      "outputs": [
        {
          "output_type": "execute_result",
          "data": {
            "text/plain": [
              "[<p class=\"body strikeout\"></p>]"
            ]
          },
          "metadata": {
            "tags": []
          },
          "execution_count": 51
        }
      ]
    },
    {
      "cell_type": "code",
      "metadata": {
        "colab": {
          "base_uri": "https://localhost:8080/"
        },
        "id": "qXgtcLqyfaHt",
        "outputId": "138affa2-3293-4e36-8961-e5626d64b73c"
      },
      "source": [
        "soup.find_all(string=re.compile(\"Dormouse\"))"
      ],
      "execution_count": 52,
      "outputs": [
        {
          "output_type": "execute_result",
          "data": {
            "text/plain": [
              "[\"The Dormouse's story\", \"The Dormouse's story\"]"
            ]
          },
          "metadata": {
            "tags": []
          },
          "execution_count": 52
        }
      ]
    },
    {
      "cell_type": "code",
      "metadata": {
        "colab": {
          "base_uri": "https://localhost:8080/"
        },
        "id": "h8rMME99fh5f",
        "outputId": "a736f388-37f4-45dd-ab86-6c9c46e9e8f0"
      },
      "source": [
        "#Limit for finding\r\n",
        "soup.find_all(\"a\", limit=2)"
      ],
      "execution_count": 53,
      "outputs": [
        {
          "output_type": "execute_result",
          "data": {
            "text/plain": [
              "[<a class=\"sister\" href=\"http://example.com/elsie\" id=\"link1\">Elsie</a>,\n",
              " <a class=\"sister\" href=\"http://example.com/lacie\" id=\"link2\">Lacie</a>]"
            ]
          },
          "metadata": {
            "tags": []
          },
          "execution_count": 53
        }
      ]
    },
    {
      "cell_type": "code",
      "metadata": {
        "id": "Hd-5B9XhgUSi"
      },
      "source": [
        "#Let’s consider find_parents() and find_parent(). Remember that find_all() and find() work their way down the tree, looking at tag’s descendants. \r\n",
        "#These methods do the opposite: they work their way up the tree"
      ],
      "execution_count": null,
      "outputs": []
    },
    {
      "cell_type": "code",
      "metadata": {
        "id": "4O8SNAO4goB_"
      },
      "source": [
        "#The find_next_siblings() method returns all the siblings that match, \r\n",
        "#and find_next_sibling() only returns the first one\r\n",
        "#use .next_siblings to iterate over the rest of an element’s siblings in the tree.\r\n",
        "#ly find_previous_siblings() and find_previous_sibling()\r\n",
        "#ly find_all_next() and find_next()\r\n",
        "#ly find_all_previous() and find_previous()"
      ],
      "execution_count": null,
      "outputs": []
    },
    {
      "cell_type": "code",
      "metadata": {
        "colab": {
          "base_uri": "https://localhost:8080/"
        },
        "id": "vQiqJ-G7hBOU",
        "outputId": "ae7213e7-ae53-4872-ab27-3978f13766c6"
      },
      "source": [
        "#Tags beneath other tags\r\n",
        "soup.select(\"html head title\")"
      ],
      "execution_count": 54,
      "outputs": [
        {
          "output_type": "execute_result",
          "data": {
            "text/plain": [
              "[<title>The Dormouse's story</title>]"
            ]
          },
          "metadata": {
            "tags": []
          },
          "execution_count": 54
        }
      ]
    },
    {
      "cell_type": "code",
      "metadata": {
        "colab": {
          "base_uri": "https://localhost:8080/"
        },
        "id": "mcqPHIijhJiT",
        "outputId": "71533d47-1d3f-4567-a6c4-fcd51188115f"
      },
      "source": [
        "soup.select(\"p > a\")"
      ],
      "execution_count": 55,
      "outputs": [
        {
          "output_type": "execute_result",
          "data": {
            "text/plain": [
              "[<a class=\"sister\" href=\"http://example.com/elsie\" id=\"link1\">Elsie</a>,\n",
              " <a class=\"sister\" href=\"http://example.com/lacie\" id=\"link2\">Lacie</a>,\n",
              " <a class=\"sister\" href=\"http://example.com/tillie\" id=\"link3\">Tillie</a>]"
            ]
          },
          "metadata": {
            "tags": []
          },
          "execution_count": 55
        }
      ]
    },
    {
      "cell_type": "code",
      "metadata": {
        "colab": {
          "base_uri": "https://localhost:8080/"
        },
        "id": "ZLwtEr5ZhPuj",
        "outputId": "ffd814bd-0b04-4899-aad9-57dbb3bc610e"
      },
      "source": [
        "soup.select(\"p > #link1\")"
      ],
      "execution_count": 56,
      "outputs": [
        {
          "output_type": "execute_result",
          "data": {
            "text/plain": [
              "[<a class=\"sister\" href=\"http://example.com/elsie\" id=\"link1\">Elsie</a>]"
            ]
          },
          "metadata": {
            "tags": []
          },
          "execution_count": 56
        }
      ]
    },
    {
      "cell_type": "code",
      "metadata": {
        "colab": {
          "base_uri": "https://localhost:8080/"
        },
        "id": "0_iA608YhW8B",
        "outputId": "9ca53a41-2575-468d-eedc-03460c6cdf76"
      },
      "source": [
        "#Find with tags that match any selector\r\n",
        "soup.select(\"#link1,#link2\")"
      ],
      "execution_count": 57,
      "outputs": [
        {
          "output_type": "execute_result",
          "data": {
            "text/plain": [
              "[<a class=\"sister\" href=\"http://example.com/elsie\" id=\"link1\">Elsie</a>,\n",
              " <a class=\"sister\" href=\"http://example.com/lacie\" id=\"link2\">Lacie</a>]"
            ]
          },
          "metadata": {
            "tags": []
          },
          "execution_count": 57
        }
      ]
    },
    {
      "cell_type": "code",
      "metadata": {
        "colab": {
          "base_uri": "https://localhost:8080/"
        },
        "id": "Y0dY37PUhiyO",
        "outputId": "0fb7bf55-4d58-484d-d324-0039e4b7925e"
      },
      "source": [
        "#Find tags by CSS class\r\n",
        "soup.select(\".sister\")"
      ],
      "execution_count": 58,
      "outputs": [
        {
          "output_type": "execute_result",
          "data": {
            "text/plain": [
              "[<a class=\"sister\" href=\"http://example.com/elsie\" id=\"link1\">Elsie</a>,\n",
              " <a class=\"sister\" href=\"http://example.com/lacie\" id=\"link2\">Lacie</a>,\n",
              " <a class=\"sister\" href=\"http://example.com/tillie\" id=\"link3\">Tillie</a>]"
            ]
          },
          "metadata": {
            "tags": []
          },
          "execution_count": 58
        }
      ]
    },
    {
      "cell_type": "code",
      "metadata": {
        "colab": {
          "base_uri": "https://localhost:8080/"
        },
        "id": "DB0gn7ihhr5I",
        "outputId": "b4676e1a-a5f9-49e5-f579-86f264f852d8"
      },
      "source": [
        "#Find siblings of tags\r\n",
        "soup.select(\"#link1 ~ .sister\")"
      ],
      "execution_count": 59,
      "outputs": [
        {
          "output_type": "execute_result",
          "data": {
            "text/plain": [
              "[<a class=\"sister\" href=\"http://example.com/lacie\" id=\"link2\">Lacie</a>,\n",
              " <a class=\"sister\" href=\"http://example.com/tillie\" id=\"link3\">Tillie</a>]"
            ]
          },
          "metadata": {
            "tags": []
          },
          "execution_count": 59
        }
      ]
    },
    {
      "cell_type": "code",
      "metadata": {
        "colab": {
          "base_uri": "https://localhost:8080/"
        },
        "id": "UxucFEWph5oI",
        "outputId": "b7cf6373-b4f0-4558-c254-fbf9afa648bb"
      },
      "source": [
        "#Find tags by attribute value\r\n",
        "soup.select('a[href^=\"http://example.com/\"]')"
      ],
      "execution_count": 60,
      "outputs": [
        {
          "output_type": "execute_result",
          "data": {
            "text/plain": [
              "[<a class=\"sister\" href=\"http://example.com/elsie\" id=\"link1\">Elsie</a>,\n",
              " <a class=\"sister\" href=\"http://example.com/lacie\" id=\"link2\">Lacie</a>,\n",
              " <a class=\"sister\" href=\"http://example.com/tillie\" id=\"link3\">Tillie</a>]"
            ]
          },
          "metadata": {
            "tags": []
          },
          "execution_count": 60
        }
      ]
    }
  ]
}