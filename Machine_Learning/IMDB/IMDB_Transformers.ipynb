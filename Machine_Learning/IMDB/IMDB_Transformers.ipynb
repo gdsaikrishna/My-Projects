{
  "nbformat": 4,
  "nbformat_minor": 0,
  "metadata": {
    "colab": {
      "name": "IMDB_Transformers.ipynb",
      "provenance": []
    },
    "kernelspec": {
      "display_name": "Python 3",
      "name": "python3"
    }
  },
  "cells": [
    {
      "cell_type": "code",
      "metadata": {
        "id": "p5Dq17Stlwrm"
      },
      "source": [
        "import tensorflow as tf\r\n",
        "from tensorflow import keras\r\n",
        "from tensorflow.keras import layers "
      ],
      "execution_count": null,
      "outputs": []
    },
    {
      "cell_type": "code",
      "metadata": {
        "id": "ZiYglZ7HI29x"
      },
      "source": [
        "#IMplementing Transformer Block\r\n",
        "class TransformerBlock(layers.Layer):\r\n",
        "    def __init__(self, embed_dim, num_heads, ff_dim, rate=0.1):\r\n",
        "        super(TransformerBlock, self).__init__()\r\n",
        "        self.att = layers.MultiHeadAttention(num_heads=num_heads, key_dim=embed_dim)\r\n",
        "        self.ffn = keras.Sequential(\r\n",
        "            [layers.Dense(ff_dim, activation=\"relu\"), layers.Dense(embed_dim),]\r\n",
        "        )\r\n",
        "        self.layernorm1 = layers.LayerNormalization(epsilon=1e-6)\r\n",
        "        self.layernorm2 = layers.LayerNormalization(epsilon=1e-6)\r\n",
        "        self.dropout1 = layers.Dropout(rate)\r\n",
        "        self.dropout2 = layers.Dropout(rate)\r\n",
        "\r\n",
        "    def call(self, inputs, training):\r\n",
        "        attn_output = self.att(inputs, inputs)\r\n",
        "        attn_output = self.dropout1(attn_output, training=training)\r\n",
        "        out1 = self.layernorm1(inputs + attn_output)\r\n",
        "        ffn_output = self.ffn(out1)\r\n",
        "        ffn_output = self.dropout2(ffn_output, training=training)\r\n",
        "        return self.layernorm2(out1 + ffn_output)\r\n",
        "    "
      ],
      "execution_count": null,
      "outputs": []
    },
    {
      "cell_type": "code",
      "metadata": {
        "id": "BfIW7LZaNYid"
      },
      "source": [
        "#Implementing Embedding layer\r\n",
        "class TokenAndPositionEmbedding(layers.Layer):\r\n",
        "    def __init__(self, maxlen, vocab_size, embed_dim):\r\n",
        "        super(TokenAndPositionEmbedding, self).__init__()\r\n",
        "        self.token_emb = layers.Embedding(input_dim=vocab_size, output_dim=embed_dim)\r\n",
        "        self.pos_emb = layers.Embedding(input_dim=maxlen, output_dim=embed_dim)\r\n",
        "\r\n",
        "    def call(self, x):\r\n",
        "        maxlen = tf.shape(x)[-1]\r\n",
        "        positions = tf.range(start=0, limit=maxlen, delta=1)\r\n",
        "        positions = self.pos_emb(positions)\r\n",
        "        x = self.token_emb(x)\r\n",
        "        return x + positions"
      ],
      "execution_count": null,
      "outputs": []
    },
    {
      "cell_type": "code",
      "metadata": {
        "colab": {
          "base_uri": "https://localhost:8080/"
        },
        "id": "cQ_RoOwEOqqg",
        "outputId": "b825d28f-2087-466b-bf7a-9c34f61984a3"
      },
      "source": [
        "vocab_size = 20000  # Only consider the top 20k words\r\n",
        "maxlen = 200  # Only consider the first 200 words of each movie review\r\n",
        "(x_train, y_train), (x_val, y_val) = keras.datasets.imdb.load_data(num_words=vocab_size)\r\n",
        "print(len(x_train), \"Training sequences\")\r\n",
        "print(len(x_val), \"Validation sequences\")\r\n",
        "x_train = keras.preprocessing.sequence.pad_sequences(x_train, maxlen=maxlen)\r\n",
        "x_val = keras.preprocessing.sequence.pad_sequences(x_val, maxlen=maxlen)"
      ],
      "execution_count": null,
      "outputs": [
        {
          "output_type": "stream",
          "text": [
            "<string>:6: VisibleDeprecationWarning: Creating an ndarray from ragged nested sequences (which is a list-or-tuple of lists-or-tuples-or ndarrays with different lengths or shapes) is deprecated. If you meant to do this, you must specify 'dtype=object' when creating the ndarray\n",
            "/usr/local/lib/python3.6/dist-packages/tensorflow/python/keras/datasets/imdb.py:159: VisibleDeprecationWarning: Creating an ndarray from ragged nested sequences (which is a list-or-tuple of lists-or-tuples-or ndarrays with different lengths or shapes) is deprecated. If you meant to do this, you must specify 'dtype=object' when creating the ndarray\n",
            "  x_train, y_train = np.array(xs[:idx]), np.array(labels[:idx])\n",
            "/usr/local/lib/python3.6/dist-packages/tensorflow/python/keras/datasets/imdb.py:160: VisibleDeprecationWarning: Creating an ndarray from ragged nested sequences (which is a list-or-tuple of lists-or-tuples-or ndarrays with different lengths or shapes) is deprecated. If you meant to do this, you must specify 'dtype=object' when creating the ndarray\n",
            "  x_test, y_test = np.array(xs[idx:]), np.array(labels[idx:])\n"
          ],
          "name": "stderr"
        },
        {
          "output_type": "stream",
          "text": [
            "25000 Training sequences\n",
            "25000 Validation sequences\n"
          ],
          "name": "stdout"
        }
      ]
    },
    {
      "cell_type": "code",
      "metadata": {
        "id": "VImIqFiQO0wK"
      },
      "source": [
        "embed_dim = 32  # Embedding size for each token\r\n",
        "num_heads = 2  # Number of attention heads\r\n",
        "ff_dim = 32  # Hidden layer size in feed forward network inside transformer\r\n",
        "\r\n",
        "inputs = layers.Input(shape=(maxlen,))\r\n",
        "embedding_layer = TokenAndPositionEmbedding(maxlen, vocab_size, embed_dim)\r\n",
        "x = embedding_layer(inputs)\r\n",
        "transformer_block = TransformerBlock(embed_dim, num_heads, ff_dim)\r\n",
        "x = transformer_block(x)\r\n",
        "x = layers.GlobalAveragePooling1D()(x)\r\n",
        "x = layers.Dropout(0.1)(x)\r\n",
        "x = layers.Dense(20, activation=\"relu\")(x)\r\n",
        "x = layers.Dropout(0.1)(x)\r\n",
        "outputs = layers.Dense(2, activation=\"softmax\")(x)\r\n",
        "\r\n",
        "model = keras.Model(inputs=inputs, outputs=outputs)"
      ],
      "execution_count": null,
      "outputs": []
    },
    {
      "cell_type": "code",
      "metadata": {
        "colab": {
          "background_save": true,
          "base_uri": "https://localhost:8080/"
        },
        "id": "jaIhRjfEQ3K1",
        "outputId": "a4c909dd-e7b8-4465-95e6-2405d9adc3b2"
      },
      "source": [
        "model.compile(\"adam\", \"sparse_categorical_crossentropy\", metrics=[\"accuracy\"])\r\n",
        "history = model.fit(\r\n",
        "    x_train, y_train, batch_size=32, epochs=2, validation_data=(x_val, y_val)\r\n",
        ")"
      ],
      "execution_count": null,
      "outputs": [
        {
          "output_type": "stream",
          "text": [
            "Epoch 1/2\n",
            "782/782 [==============================] - 134s 168ms/step - loss: 0.5058 - accuracy: 0.7183 - val_loss: 0.4042 - val_accuracy: 0.8225\n",
            "Epoch 2/2\n",
            "782/782 [==============================] - 132s 169ms/step - loss: 0.1830 - accuracy: 0.9320 - val_loss: 0.3254 - val_accuracy: 0.8674\n"
          ],
          "name": "stdout"
        }
      ]
    },
    {
      "cell_type": "code",
      "metadata": {
        "id": "6q3Pn86iQ4Os"
      },
      "source": [
        "import matplotlib.pyplot as plt\r\n",
        "import seaborn as sns\r\n",
        "def plt_dynamic(x, vy, ty, ax, colors= ['b'] ):\r\n",
        "    ax.plot(x, vy, 'b', label = \"Validation Loss\")\r\n",
        "    ax.plot(x, ty, 'r', label = \"Train Loss\")\r\n",
        "    plt.legend()\r\n",
        "    plt.grid()\r\n",
        "    fig.canvas.draw() "
      ],
      "execution_count": 13,
      "outputs": []
    },
    {
      "cell_type": "code",
      "metadata": {
        "id": "ExTr2fPXRBql",
        "colab": {
          "base_uri": "https://localhost:8080/",
          "height": 279
        },
        "outputId": "b8cde23e-ab95-4b32-ec3f-5b7c010b5fe6"
      },
      "source": [
        "nb_epoch = 2\r\n",
        "fig,ax = plt.subplots(1,1)\r\n",
        "ax.set_xlabel('epoch') ; ax.set_ylabel('Categorical Crossentropy Loss')\r\n",
        "# list of epoch numbers\r\n",
        "x = list(range(1,nb_epoch+1))\r\n",
        "# print(history.history.keys())\r\n",
        "# dict_keys(['val_loss', 'val_acc', 'loss', 'acc'])\r\n",
        "# We will get val_loss , val_acc when validation_data is passed\r\n",
        "vy = history.history['val_loss']\r\n",
        "ty = history.history['loss']\r\n",
        "plt_dynamic(x, vy, ty, ax)\r\n",
        "#Better to stop art epoch 2 as it is over fitting"
      ],
      "execution_count": 14,
      "outputs": [
        {
          "output_type": "display_data",
          "data": {
            "image/png": "[encoded data removed]",
            "text/plain": [
              "<Figure size 432x288 with 1 Axes>"
            ]
          },
          "metadata": {
            "tags": [],
            "needs_background": "light"
          }
        }
      ]
    }
  ]
}