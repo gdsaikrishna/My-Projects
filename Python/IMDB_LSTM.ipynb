{
  "nbformat": 4,
  "nbformat_minor": 0,
  "metadata": {
    "colab": {
      "name": "IMDB_LSTM.ipynb",
      "provenance": [],
      "collapsed_sections": []
    },
    "kernelspec": {
      "name": "python3",
      "display_name": "Python 3"
    }
  },
  "cells": [
    {
      "cell_type": "code",
      "metadata": {
        "id": "0l8K5sjsy8xJ"
      },
      "source": [
        "import numpy as np\r\n",
        "from keras.datasets import imdb\r\n",
        "from keras.models import Sequential\r\n",
        "from keras.layers import Dense, LSTM, Activation\r\n",
        "from keras.layers.embeddings import Embedding\r\n",
        "from keras.preprocessing import sequence\r\n"
      ],
      "execution_count": 3,
      "outputs": []
    },
    {
      "cell_type": "code",
      "metadata": {
        "colab": {
          "base_uri": "https://localhost:8080/"
        },
        "id": "aXkAH4-gznrX",
        "outputId": "33fb7c76-a889-47d5-81e1-ec3398e98a1b"
      },
      "source": [
        "#loading the dataset by keeping only top words\r\n",
        "top_words = 4000\r\n",
        "(X_train, y_train),(X_test, y_test) = imdb.load_data(nb_words = top_words)"
      ],
      "execution_count": 4,
      "outputs": [
        {
          "output_type": "stream",
          "text": [
            "WARNING:tensorflow:The `nb_words` argument in `load_data` has been renamed `num_words`.\n",
            "Downloading data from https://storage.googleapis.com/tensorflow/tf-keras-datasets/imdb.npz\n",
            "17465344/17464789 [==============================] - 0s 0us/step\n"
          ],
          "name": "stdout"
        }
      ]
    },
    {
      "cell_type": "code",
      "metadata": {
        "colab": {
          "base_uri": "https://localhost:8080/"
        },
        "id": "jnSeVx7Ez6pu",
        "outputId": "0665f6b2-9193-418f-8301-a0727e99f5c7"
      },
      "source": [
        "print(len(X_train[1]))"
      ],
      "execution_count": 5,
      "outputs": [
        {
          "output_type": "stream",
          "text": [
            "189\n"
          ],
          "name": "stdout"
        }
      ]
    },
    {
      "cell_type": "code",
      "metadata": {
        "colab": {
          "base_uri": "https://localhost:8080/"
        },
        "id": "xasOORPn0Y0O",
        "outputId": "ab5799ad-659e-42e2-8981-1fc5146e032e"
      },
      "source": [
        "print(X_train.shape)"
      ],
      "execution_count": 6,
      "outputs": [
        {
          "output_type": "stream",
          "text": [
            "(25000,)\n"
          ],
          "name": "stdout"
        }
      ]
    },
    {
      "cell_type": "code",
      "metadata": {
        "colab": {
          "base_uri": "https://localhost:8080/"
        },
        "id": "pCpckNyd0AJK",
        "outputId": "03baa2b1-d28d-4ee0-e071-0a94375ea89e"
      },
      "source": [
        "print(X_train[1])"
      ],
      "execution_count": 7,
      "outputs": [
        {
          "output_type": "stream",
          "text": [
            "[1, 194, 1153, 194, 2, 78, 228, 5, 6, 1463, 2, 2, 134, 26, 4, 715, 8, 118, 1634, 14, 394, 20, 13, 119, 954, 189, 102, 5, 207, 110, 3103, 21, 14, 69, 188, 8, 30, 23, 7, 4, 249, 126, 93, 4, 114, 9, 2300, 1523, 5, 647, 4, 116, 9, 35, 2, 4, 229, 9, 340, 1322, 4, 118, 9, 4, 130, 2, 19, 4, 1002, 5, 89, 29, 952, 46, 37, 4, 455, 9, 45, 43, 38, 1543, 1905, 398, 4, 1649, 26, 2, 5, 163, 11, 3215, 2, 4, 1153, 9, 194, 775, 7, 2, 2, 349, 2637, 148, 605, 2, 2, 15, 123, 125, 68, 2, 2, 15, 349, 165, 2, 98, 5, 4, 228, 9, 43, 2, 1157, 15, 299, 120, 5, 120, 174, 11, 220, 175, 136, 50, 9, 2, 228, 2, 5, 2, 656, 245, 2350, 5, 4, 2, 131, 152, 491, 18, 2, 32, 2, 1212, 14, 9, 6, 371, 78, 22, 625, 64, 1382, 9, 8, 168, 145, 23, 4, 1690, 15, 16, 4, 1355, 5, 28, 6, 52, 154, 462, 33, 89, 78, 285, 16, 145, 95]\n"
          ],
          "name": "stdout"
        }
      ]
    },
    {
      "cell_type": "code",
      "metadata": {
        "colab": {
          "base_uri": "https://localhost:8080/"
        },
        "id": "000-lk1L0CvA",
        "outputId": "49f08d8e-779c-45d8-dc1a-7ebc98e45b83"
      },
      "source": [
        "max_length = 500\r\n",
        "X_train = sequence.pad_sequences(X_train, maxlen = max_length)\r\n",
        "X_test = sequence.pad_sequences(X_test, maxlen = max_length)\r\n",
        "print(X_train.shape)"
      ],
      "execution_count": 8,
      "outputs": [
        {
          "output_type": "stream",
          "text": [
            "(25000, 500)\n"
          ],
          "name": "stdout"
        }
      ]
    },
    {
      "cell_type": "code",
      "metadata": {
        "colab": {
          "base_uri": "https://localhost:8080/"
        },
        "id": "PuP7Clyp0crW",
        "outputId": "ffef7622-2cb1-4972-fafb-38b4984fd3b8"
      },
      "source": [
        "embedding_vector_length = 32\r\n",
        "model = Sequential()\r\n",
        "model.add(Embedding(top_words+1, embedding_vector_length, input_length = max_length))\r\n",
        "model.add(LSTM(50))\r\n",
        "model.add(Dense(1, activation = 'sigmoid'))\r\n",
        "print(model.summary())\r\n",
        "model.compile(loss = 'binary_crossentropy', optimizer = 'adam' , metrics = ['accuracy'])"
      ],
      "execution_count": 9,
      "outputs": [
        {
          "output_type": "stream",
          "text": [
            "Model: \"sequential\"\n",
            "_________________________________________________________________\n",
            "Layer (type)                 Output Shape              Param #   \n",
            "=================================================================\n",
            "embedding (Embedding)        (None, 500, 32)           128032    \n",
            "_________________________________________________________________\n",
            "lstm (LSTM)                  (None, 50)                16600     \n",
            "_________________________________________________________________\n",
            "dense (Dense)                (None, 1)                 51        \n",
            "=================================================================\n",
            "Total params: 144,683\n",
            "Trainable params: 144,683\n",
            "Non-trainable params: 0\n",
            "_________________________________________________________________\n",
            "None\n"
          ],
          "name": "stdout"
        }
      ]
    },
    {
      "cell_type": "code",
      "metadata": {
        "colab": {
          "base_uri": "https://localhost:8080/"
        },
        "id": "NrfGC1iq1Ld6",
        "outputId": "7112c79f-8613-4fc7-c128-588b0e53f1e4"
      },
      "source": [
        "model.fit(X_train, y_train, epochs=10 , batch_size = 64 )"
      ],
      "execution_count": 12,
      "outputs": [
        {
          "output_type": "stream",
          "text": [
            "Epoch 1/10\n",
            "391/391 [==============================] - 113s 288ms/step - loss: 0.4446 - accuracy: 0.7916\n",
            "Epoch 2/10\n",
            "391/391 [==============================] - 123s 314ms/step - loss: 0.2934 - accuracy: 0.8824\n",
            "Epoch 3/10\n",
            "391/391 [==============================] - 121s 310ms/step - loss: 0.2454 - accuracy: 0.9054\n",
            "Epoch 4/10\n",
            "391/391 [==============================] - 120s 307ms/step - loss: 0.2278 - accuracy: 0.9114\n",
            "Epoch 5/10\n",
            "391/391 [==============================] - 123s 315ms/step - loss: 0.2121 - accuracy: 0.9175\n",
            "Epoch 6/10\n",
            "391/391 [==============================] - 122s 311ms/step - loss: 0.1836 - accuracy: 0.9316\n",
            "Epoch 7/10\n",
            "391/391 [==============================] - 123s 315ms/step - loss: 0.1644 - accuracy: 0.9368\n",
            "Epoch 8/10\n",
            "391/391 [==============================] - 121s 310ms/step - loss: 0.1478 - accuracy: 0.9446\n",
            "Epoch 9/10\n",
            "391/391 [==============================] - 119s 305ms/step - loss: 0.1301 - accuracy: 0.9533\n",
            "Epoch 10/10\n",
            "391/391 [==============================] - 123s 314ms/step - loss: 0.1224 - accuracy: 0.9563\n"
          ],
          "name": "stdout"
        },
        {
          "output_type": "execute_result",
          "data": {
            "text/plain": [
              "<tensorflow.python.keras.callbacks.History at 0x7fee5580aac8>"
            ]
          },
          "metadata": {
            "tags": []
          },
          "execution_count": 12
        }
      ]
    },
    {
      "cell_type": "code",
      "metadata": {
        "colab": {
          "base_uri": "https://localhost:8080/"
        },
        "id": "EVDCUiTl1gVl",
        "outputId": "66a55e8d-3cee-4027-8def-8055058f8bfc"
      },
      "source": [
        "scores = model.evaluate(X_test, y_test, verbose=0)\r\n",
        "print(\"Accuracy: %.2f%%\" % (scores[1]*100))"
      ],
      "execution_count": 13,
      "outputs": [
        {
          "output_type": "stream",
          "text": [
            "Accuracy: 86.44%\n"
          ],
          "name": "stdout"
        }
      ]
    }
  ]
}